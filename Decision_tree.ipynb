{
  "nbformat": 4,
  "nbformat_minor": 0,
  "metadata": {
    "colab": {
      "provenance": [],
      "include_colab_link": true
    },
    "kernelspec": {
      "name": "python3",
      "display_name": "Python 3"
    },
    "language_info": {
      "name": "python"
    }
  },
  "cells": [
    {
      "cell_type": "markdown",
      "metadata": {
        "id": "view-in-github",
        "colab_type": "text"
      },
      "source": [
        "<a href=\"https://colab.research.google.com/github/Ronny-Saputra/Machine-Learning/blob/main/Decision_tree.ipynb\" target=\"_parent\"><img src=\"https://colab.research.google.com/assets/colab-badge.svg\" alt=\"Open In Colab\"/></a>"
      ]
    },
    {
      "cell_type": "markdown",
      "source": [
        "Dibuat oleh : Ronny Saputra"
      ],
      "metadata": {
        "id": "PhE1uDb39bYR"
      }
    },
    {
      "cell_type": "markdown",
      "source": [
        "## **Tahapan awal : Pembuatan Model dengan decision tree**"
      ],
      "metadata": {
        "id": "lYMv3YaIBgME"
      }
    },
    {
      "cell_type": "markdown",
      "source": [
        "### Pengumpulan Data"
      ],
      "metadata": {
        "id": "fW0ct79AND_N"
      }
    },
    {
      "cell_type": "code",
      "execution_count": null,
      "metadata": {
        "colab": {
          "base_uri": "https://localhost:8080/",
          "height": 73
        },
        "id": "RybP0JI_BKuc",
        "outputId": "0c0ae52c-98af-4ff9-a996-abcd58252581"
      },
      "outputs": [
        {
          "output_type": "display_data",
          "data": {
            "text/plain": [
              "<IPython.core.display.HTML object>"
            ],
            "text/html": [
              "\n",
              "     <input type=\"file\" id=\"files-c874b6cb-638e-4226-bf5d-91760aabe60c\" name=\"files[]\" multiple disabled\n",
              "        style=\"border:none\" />\n",
              "     <output id=\"result-c874b6cb-638e-4226-bf5d-91760aabe60c\">\n",
              "      Upload widget is only available when the cell has been executed in the\n",
              "      current browser session. Please rerun this cell to enable.\n",
              "      </output>\n",
              "      <script>// Copyright 2017 Google LLC\n",
              "//\n",
              "// Licensed under the Apache License, Version 2.0 (the \"License\");\n",
              "// you may not use this file except in compliance with the License.\n",
              "// You may obtain a copy of the License at\n",
              "//\n",
              "//      http://www.apache.org/licenses/LICENSE-2.0\n",
              "//\n",
              "// Unless required by applicable law or agreed to in writing, software\n",
              "// distributed under the License is distributed on an \"AS IS\" BASIS,\n",
              "// WITHOUT WARRANTIES OR CONDITIONS OF ANY KIND, either express or implied.\n",
              "// See the License for the specific language governing permissions and\n",
              "// limitations under the License.\n",
              "\n",
              "/**\n",
              " * @fileoverview Helpers for google.colab Python module.\n",
              " */\n",
              "(function(scope) {\n",
              "function span(text, styleAttributes = {}) {\n",
              "  const element = document.createElement('span');\n",
              "  element.textContent = text;\n",
              "  for (const key of Object.keys(styleAttributes)) {\n",
              "    element.style[key] = styleAttributes[key];\n",
              "  }\n",
              "  return element;\n",
              "}\n",
              "\n",
              "// Max number of bytes which will be uploaded at a time.\n",
              "const MAX_PAYLOAD_SIZE = 100 * 1024;\n",
              "\n",
              "function _uploadFiles(inputId, outputId) {\n",
              "  const steps = uploadFilesStep(inputId, outputId);\n",
              "  const outputElement = document.getElementById(outputId);\n",
              "  // Cache steps on the outputElement to make it available for the next call\n",
              "  // to uploadFilesContinue from Python.\n",
              "  outputElement.steps = steps;\n",
              "\n",
              "  return _uploadFilesContinue(outputId);\n",
              "}\n",
              "\n",
              "// This is roughly an async generator (not supported in the browser yet),\n",
              "// where there are multiple asynchronous steps and the Python side is going\n",
              "// to poll for completion of each step.\n",
              "// This uses a Promise to block the python side on completion of each step,\n",
              "// then passes the result of the previous step as the input to the next step.\n",
              "function _uploadFilesContinue(outputId) {\n",
              "  const outputElement = document.getElementById(outputId);\n",
              "  const steps = outputElement.steps;\n",
              "\n",
              "  const next = steps.next(outputElement.lastPromiseValue);\n",
              "  return Promise.resolve(next.value.promise).then((value) => {\n",
              "    // Cache the last promise value to make it available to the next\n",
              "    // step of the generator.\n",
              "    outputElement.lastPromiseValue = value;\n",
              "    return next.value.response;\n",
              "  });\n",
              "}\n",
              "\n",
              "/**\n",
              " * Generator function which is called between each async step of the upload\n",
              " * process.\n",
              " * @param {string} inputId Element ID of the input file picker element.\n",
              " * @param {string} outputId Element ID of the output display.\n",
              " * @return {!Iterable<!Object>} Iterable of next steps.\n",
              " */\n",
              "function* uploadFilesStep(inputId, outputId) {\n",
              "  const inputElement = document.getElementById(inputId);\n",
              "  inputElement.disabled = false;\n",
              "\n",
              "  const outputElement = document.getElementById(outputId);\n",
              "  outputElement.innerHTML = '';\n",
              "\n",
              "  const pickedPromise = new Promise((resolve) => {\n",
              "    inputElement.addEventListener('change', (e) => {\n",
              "      resolve(e.target.files);\n",
              "    });\n",
              "  });\n",
              "\n",
              "  const cancel = document.createElement('button');\n",
              "  inputElement.parentElement.appendChild(cancel);\n",
              "  cancel.textContent = 'Cancel upload';\n",
              "  const cancelPromise = new Promise((resolve) => {\n",
              "    cancel.onclick = () => {\n",
              "      resolve(null);\n",
              "    };\n",
              "  });\n",
              "\n",
              "  // Wait for the user to pick the files.\n",
              "  const files = yield {\n",
              "    promise: Promise.race([pickedPromise, cancelPromise]),\n",
              "    response: {\n",
              "      action: 'starting',\n",
              "    }\n",
              "  };\n",
              "\n",
              "  cancel.remove();\n",
              "\n",
              "  // Disable the input element since further picks are not allowed.\n",
              "  inputElement.disabled = true;\n",
              "\n",
              "  if (!files) {\n",
              "    return {\n",
              "      response: {\n",
              "        action: 'complete',\n",
              "      }\n",
              "    };\n",
              "  }\n",
              "\n",
              "  for (const file of files) {\n",
              "    const li = document.createElement('li');\n",
              "    li.append(span(file.name, {fontWeight: 'bold'}));\n",
              "    li.append(span(\n",
              "        `(${file.type || 'n/a'}) - ${file.size} bytes, ` +\n",
              "        `last modified: ${\n",
              "            file.lastModifiedDate ? file.lastModifiedDate.toLocaleDateString() :\n",
              "                                    'n/a'} - `));\n",
              "    const percent = span('0% done');\n",
              "    li.appendChild(percent);\n",
              "\n",
              "    outputElement.appendChild(li);\n",
              "\n",
              "    const fileDataPromise = new Promise((resolve) => {\n",
              "      const reader = new FileReader();\n",
              "      reader.onload = (e) => {\n",
              "        resolve(e.target.result);\n",
              "      };\n",
              "      reader.readAsArrayBuffer(file);\n",
              "    });\n",
              "    // Wait for the data to be ready.\n",
              "    let fileData = yield {\n",
              "      promise: fileDataPromise,\n",
              "      response: {\n",
              "        action: 'continue',\n",
              "      }\n",
              "    };\n",
              "\n",
              "    // Use a chunked sending to avoid message size limits. See b/62115660.\n",
              "    let position = 0;\n",
              "    do {\n",
              "      const length = Math.min(fileData.byteLength - position, MAX_PAYLOAD_SIZE);\n",
              "      const chunk = new Uint8Array(fileData, position, length);\n",
              "      position += length;\n",
              "\n",
              "      const base64 = btoa(String.fromCharCode.apply(null, chunk));\n",
              "      yield {\n",
              "        response: {\n",
              "          action: 'append',\n",
              "          file: file.name,\n",
              "          data: base64,\n",
              "        },\n",
              "      };\n",
              "\n",
              "      let percentDone = fileData.byteLength === 0 ?\n",
              "          100 :\n",
              "          Math.round((position / fileData.byteLength) * 100);\n",
              "      percent.textContent = `${percentDone}% done`;\n",
              "\n",
              "    } while (position < fileData.byteLength);\n",
              "  }\n",
              "\n",
              "  // All done.\n",
              "  yield {\n",
              "    response: {\n",
              "      action: 'complete',\n",
              "    }\n",
              "  };\n",
              "}\n",
              "\n",
              "scope.google = scope.google || {};\n",
              "scope.google.colab = scope.google.colab || {};\n",
              "scope.google.colab._files = {\n",
              "  _uploadFiles,\n",
              "  _uploadFilesContinue,\n",
              "};\n",
              "})(self);\n",
              "</script> "
            ]
          },
          "metadata": {}
        },
        {
          "output_type": "stream",
          "name": "stdout",
          "text": [
            "Saving salary.csv to salary.csv\n"
          ]
        }
      ],
      "source": [
        "import pandas as pd\n",
        "from google.colab import files\n",
        "uploaded = files.upload()"
      ]
    },
    {
      "cell_type": "code",
      "source": [
        "df = pd.read_csv('salary.csv')"
      ],
      "metadata": {
        "id": "H3yFpZW7Dp6q"
      },
      "execution_count": null,
      "outputs": []
    },
    {
      "cell_type": "markdown",
      "source": [
        "### Prapemrosesan Data"
      ],
      "metadata": {
        "id": "t41jPbHdDmYZ"
      }
    },
    {
      "cell_type": "markdown",
      "source": [
        "dalam prapemrosesan data penting untuk kita untuk encoding jika isi yang ada dalam file masi ada alfanumerik maka perlu dilakukan transformasi berupa encoding ke angka 0 dan 1 dst agar Scikit-Learn bisa membacanya nanti. Kita menggunakan fungsi `replace()`"
      ],
      "metadata": {
        "id": "gqcmmy27D2-p"
      }
    },
    {
      "cell_type": "markdown",
      "source": [
        "Menampilkan data yang ada agar mempermudah encoding"
      ],
      "metadata": {
        "id": "TD-Sppq_J5pw"
      }
    },
    {
      "cell_type": "code",
      "source": [
        "print(df['workclass'].unique())\n",
        "print(df['native-country'].unique())\n",
        "print(df['occupation'].unique())\n",
        "print(df['education'].unique())"
      ],
      "metadata": {
        "colab": {
          "base_uri": "https://localhost:8080/"
        },
        "id": "J_NzXoqzQwxR",
        "outputId": "77bf8753-1fa8-40b1-fd55-365fa38d7350"
      },
      "execution_count": null,
      "outputs": [
        {
          "output_type": "stream",
          "name": "stdout",
          "text": [
            "[0 1 2 3 4 5 6 7 8]\n",
            "[ 0  1  2  3  4  5  6  7  8  9 10 11 12 13 14 15 16 17 18 19 20 21 22 23\n",
            " 24 25 26 27 28 29 30 31 32 33 34 35 36 37 38 39 40 41]\n",
            "[ 0  1  2  3  4  5  6  7  8  9 10 11 12 13 14]\n",
            "[ 0  1  2  3  4  5  6  7  8  9 10 11 12 13 14 15]\n"
          ]
        }
      ]
    },
    {
      "cell_type": "code",
      "source": [
        "encoding = {\n",
        "    \"native-country\": {\n",
        "        ' United-States': 0, ' Cuba': 1, ' Jamaica': 2, ' India': 3, ' ?': 4,\n",
        "        ' Mexico': 5, ' South': 6, ' Puerto-Rico': 7, ' Honduras': 8,\n",
        "        ' England': 9, ' Canada': 10, ' Germany': 11, ' Iran': 12,\n",
        "        ' Philippines': 13, ' Italy': 14, ' Poland': 15, ' Columbia': 16,\n",
        "        ' Cambodia': 17, ' Thailand': 18, ' Ecuador': 19, ' Laos': 20,\n",
        "        ' Taiwan': 21, ' Haiti': 22, ' Portugal': 23, ' Dominican-Republic': 24,\n",
        "        ' El-Salvador': 25, ' France': 26, ' Guatemala': 27, ' China': 28,\n",
        "        ' Japan': 29, ' Yugoslavia': 30, ' Peru': 31,\n",
        "        ' Outlying-US(Guam-USVI-etc)': 32, ' Scotland': 33,\n",
        "        ' Trinadad&Tobago': 34, ' Greece': 35, ' Nicaragua': 36,\n",
        "        ' Vietnam': 37, ' Hong': 38, ' Ireland': 39, ' Hungary': 40,\n",
        "        ' Holand-Netherlands': 41\n",
        "    },\n",
        "    \"workclass\": {\n",
        "        ' State-gov': 0, ' Self-emp-not-inc': 1, ' Private': 2,\n",
        "        ' Federal-gov': 3, ' Local-gov': 4, ' ?': 5, ' Self-emp-inc': 6,\n",
        "        ' Without-pay': 7, ' Never-worked': 8\n",
        "    },\n",
        "    \"occupation\": {\n",
        "        ' Adm-clerical': 0, ' Exec-managerial': 1, ' Handlers-cleaners': 2,\n",
        "        ' Prof-specialty': 3, ' Other-service': 4, ' Sales': 5, ' Craft-repair': 6,\n",
        "        ' Transport-moving': 7, ' Farming-fishing': 8, ' Machine-op-inspct': 9,\n",
        "        ' Tech-support': 10, ' ?': 11, ' Protective-serv': 12,\n",
        "        ' Armed-Forces': 13, ' Priv-house-serv': 14\n",
        "    },\n",
        "    \"education\": {\n",
        "        ' Bachelors': 0, ' HS-grad': 1, ' 11th': 2, ' Masters': 3, ' 9th': 4,\n",
        "        ' Some-college': 5, ' Assoc-acdm': 6, ' Assoc-voc': 7, ' 7th-8th': 8,\n",
        "        ' Doctorate': 9, ' Prof-school': 10, ' 5th-6th': 11, ' 10th': 12,\n",
        "        ' 1st-4th': 13, ' Preschool': 14, ' 12th': 15\n",
        "    }\n",
        "}\n",
        "\n",
        "df.replace(encoding, inplace=True)"
      ],
      "metadata": {
        "id": "TSdv9whLFFPx"
      },
      "execution_count": null,
      "outputs": []
    },
    {
      "cell_type": "code",
      "source": [
        "df"
      ],
      "metadata": {
        "colab": {
          "base_uri": "https://localhost:8080/",
          "height": 545
        },
        "id": "46itR7vzJ_Vj",
        "outputId": "d8e1c48f-73e3-4103-8a69-67285929aefe"
      },
      "execution_count": null,
      "outputs": [
        {
          "output_type": "execute_result",
          "data": {
            "text/plain": [
              "       age  workclass  fnlwgt  education  education-num       marital-status  \\\n",
              "0       39          0   77516          0             13        Never-married   \n",
              "1       50          1   83311          0             13   Married-civ-spouse   \n",
              "2       38          2  215646          1              9             Divorced   \n",
              "3       53          2  234721          2              7   Married-civ-spouse   \n",
              "4       28          2  338409          0             13   Married-civ-spouse   \n",
              "...    ...        ...     ...        ...            ...                  ...   \n",
              "32556   27          2  257302          6             12   Married-civ-spouse   \n",
              "32557   40          2  154374          1              9   Married-civ-spouse   \n",
              "32558   58          2  151910          1              9              Widowed   \n",
              "32559   22          2  201490          1              9        Never-married   \n",
              "32560   52          6  287927          1              9   Married-civ-spouse   \n",
              "\n",
              "       occupation    relationship    race      sex  capital-gain  \\\n",
              "0               0   Not-in-family   White     Male          2174   \n",
              "1               1         Husband   White     Male             0   \n",
              "2               2   Not-in-family   White     Male             0   \n",
              "3               2         Husband   Black     Male             0   \n",
              "4               3            Wife   Black   Female             0   \n",
              "...           ...             ...     ...      ...           ...   \n",
              "32556          10            Wife   White   Female             0   \n",
              "32557           9         Husband   White     Male             0   \n",
              "32558           0       Unmarried   White   Female             0   \n",
              "32559           0       Own-child   White     Male             0   \n",
              "32560           1            Wife   White   Female         15024   \n",
              "\n",
              "       capital-loss  hours-per-week  native-country  salary  \n",
              "0                 0              40               0   <=50K  \n",
              "1                 0              13               0   <=50K  \n",
              "2                 0              40               0   <=50K  \n",
              "3                 0              40               0   <=50K  \n",
              "4                 0              40               1   <=50K  \n",
              "...             ...             ...             ...     ...  \n",
              "32556             0              38               0   <=50K  \n",
              "32557             0              40               0    >50K  \n",
              "32558             0              40               0   <=50K  \n",
              "32559             0              20               0   <=50K  \n",
              "32560             0              40               0    >50K  \n",
              "\n",
              "[32561 rows x 15 columns]"
            ],
            "text/html": [
              "\n",
              "  <div id=\"df-07c0ea13-0f05-48a7-a2fa-532d96435454\" class=\"colab-df-container\">\n",
              "    <div>\n",
              "<style scoped>\n",
              "    .dataframe tbody tr th:only-of-type {\n",
              "        vertical-align: middle;\n",
              "    }\n",
              "\n",
              "    .dataframe tbody tr th {\n",
              "        vertical-align: top;\n",
              "    }\n",
              "\n",
              "    .dataframe thead th {\n",
              "        text-align: right;\n",
              "    }\n",
              "</style>\n",
              "<table border=\"1\" class=\"dataframe\">\n",
              "  <thead>\n",
              "    <tr style=\"text-align: right;\">\n",
              "      <th></th>\n",
              "      <th>age</th>\n",
              "      <th>workclass</th>\n",
              "      <th>fnlwgt</th>\n",
              "      <th>education</th>\n",
              "      <th>education-num</th>\n",
              "      <th>marital-status</th>\n",
              "      <th>occupation</th>\n",
              "      <th>relationship</th>\n",
              "      <th>race</th>\n",
              "      <th>sex</th>\n",
              "      <th>capital-gain</th>\n",
              "      <th>capital-loss</th>\n",
              "      <th>hours-per-week</th>\n",
              "      <th>native-country</th>\n",
              "      <th>salary</th>\n",
              "    </tr>\n",
              "  </thead>\n",
              "  <tbody>\n",
              "    <tr>\n",
              "      <th>0</th>\n",
              "      <td>39</td>\n",
              "      <td>0</td>\n",
              "      <td>77516</td>\n",
              "      <td>0</td>\n",
              "      <td>13</td>\n",
              "      <td>Never-married</td>\n",
              "      <td>0</td>\n",
              "      <td>Not-in-family</td>\n",
              "      <td>White</td>\n",
              "      <td>Male</td>\n",
              "      <td>2174</td>\n",
              "      <td>0</td>\n",
              "      <td>40</td>\n",
              "      <td>0</td>\n",
              "      <td>&lt;=50K</td>\n",
              "    </tr>\n",
              "    <tr>\n",
              "      <th>1</th>\n",
              "      <td>50</td>\n",
              "      <td>1</td>\n",
              "      <td>83311</td>\n",
              "      <td>0</td>\n",
              "      <td>13</td>\n",
              "      <td>Married-civ-spouse</td>\n",
              "      <td>1</td>\n",
              "      <td>Husband</td>\n",
              "      <td>White</td>\n",
              "      <td>Male</td>\n",
              "      <td>0</td>\n",
              "      <td>0</td>\n",
              "      <td>13</td>\n",
              "      <td>0</td>\n",
              "      <td>&lt;=50K</td>\n",
              "    </tr>\n",
              "    <tr>\n",
              "      <th>2</th>\n",
              "      <td>38</td>\n",
              "      <td>2</td>\n",
              "      <td>215646</td>\n",
              "      <td>1</td>\n",
              "      <td>9</td>\n",
              "      <td>Divorced</td>\n",
              "      <td>2</td>\n",
              "      <td>Not-in-family</td>\n",
              "      <td>White</td>\n",
              "      <td>Male</td>\n",
              "      <td>0</td>\n",
              "      <td>0</td>\n",
              "      <td>40</td>\n",
              "      <td>0</td>\n",
              "      <td>&lt;=50K</td>\n",
              "    </tr>\n",
              "    <tr>\n",
              "      <th>3</th>\n",
              "      <td>53</td>\n",
              "      <td>2</td>\n",
              "      <td>234721</td>\n",
              "      <td>2</td>\n",
              "      <td>7</td>\n",
              "      <td>Married-civ-spouse</td>\n",
              "      <td>2</td>\n",
              "      <td>Husband</td>\n",
              "      <td>Black</td>\n",
              "      <td>Male</td>\n",
              "      <td>0</td>\n",
              "      <td>0</td>\n",
              "      <td>40</td>\n",
              "      <td>0</td>\n",
              "      <td>&lt;=50K</td>\n",
              "    </tr>\n",
              "    <tr>\n",
              "      <th>4</th>\n",
              "      <td>28</td>\n",
              "      <td>2</td>\n",
              "      <td>338409</td>\n",
              "      <td>0</td>\n",
              "      <td>13</td>\n",
              "      <td>Married-civ-spouse</td>\n",
              "      <td>3</td>\n",
              "      <td>Wife</td>\n",
              "      <td>Black</td>\n",
              "      <td>Female</td>\n",
              "      <td>0</td>\n",
              "      <td>0</td>\n",
              "      <td>40</td>\n",
              "      <td>1</td>\n",
              "      <td>&lt;=50K</td>\n",
              "    </tr>\n",
              "    <tr>\n",
              "      <th>...</th>\n",
              "      <td>...</td>\n",
              "      <td>...</td>\n",
              "      <td>...</td>\n",
              "      <td>...</td>\n",
              "      <td>...</td>\n",
              "      <td>...</td>\n",
              "      <td>...</td>\n",
              "      <td>...</td>\n",
              "      <td>...</td>\n",
              "      <td>...</td>\n",
              "      <td>...</td>\n",
              "      <td>...</td>\n",
              "      <td>...</td>\n",
              "      <td>...</td>\n",
              "      <td>...</td>\n",
              "    </tr>\n",
              "    <tr>\n",
              "      <th>32556</th>\n",
              "      <td>27</td>\n",
              "      <td>2</td>\n",
              "      <td>257302</td>\n",
              "      <td>6</td>\n",
              "      <td>12</td>\n",
              "      <td>Married-civ-spouse</td>\n",
              "      <td>10</td>\n",
              "      <td>Wife</td>\n",
              "      <td>White</td>\n",
              "      <td>Female</td>\n",
              "      <td>0</td>\n",
              "      <td>0</td>\n",
              "      <td>38</td>\n",
              "      <td>0</td>\n",
              "      <td>&lt;=50K</td>\n",
              "    </tr>\n",
              "    <tr>\n",
              "      <th>32557</th>\n",
              "      <td>40</td>\n",
              "      <td>2</td>\n",
              "      <td>154374</td>\n",
              "      <td>1</td>\n",
              "      <td>9</td>\n",
              "      <td>Married-civ-spouse</td>\n",
              "      <td>9</td>\n",
              "      <td>Husband</td>\n",
              "      <td>White</td>\n",
              "      <td>Male</td>\n",
              "      <td>0</td>\n",
              "      <td>0</td>\n",
              "      <td>40</td>\n",
              "      <td>0</td>\n",
              "      <td>&gt;50K</td>\n",
              "    </tr>\n",
              "    <tr>\n",
              "      <th>32558</th>\n",
              "      <td>58</td>\n",
              "      <td>2</td>\n",
              "      <td>151910</td>\n",
              "      <td>1</td>\n",
              "      <td>9</td>\n",
              "      <td>Widowed</td>\n",
              "      <td>0</td>\n",
              "      <td>Unmarried</td>\n",
              "      <td>White</td>\n",
              "      <td>Female</td>\n",
              "      <td>0</td>\n",
              "      <td>0</td>\n",
              "      <td>40</td>\n",
              "      <td>0</td>\n",
              "      <td>&lt;=50K</td>\n",
              "    </tr>\n",
              "    <tr>\n",
              "      <th>32559</th>\n",
              "      <td>22</td>\n",
              "      <td>2</td>\n",
              "      <td>201490</td>\n",
              "      <td>1</td>\n",
              "      <td>9</td>\n",
              "      <td>Never-married</td>\n",
              "      <td>0</td>\n",
              "      <td>Own-child</td>\n",
              "      <td>White</td>\n",
              "      <td>Male</td>\n",
              "      <td>0</td>\n",
              "      <td>0</td>\n",
              "      <td>20</td>\n",
              "      <td>0</td>\n",
              "      <td>&lt;=50K</td>\n",
              "    </tr>\n",
              "    <tr>\n",
              "      <th>32560</th>\n",
              "      <td>52</td>\n",
              "      <td>6</td>\n",
              "      <td>287927</td>\n",
              "      <td>1</td>\n",
              "      <td>9</td>\n",
              "      <td>Married-civ-spouse</td>\n",
              "      <td>1</td>\n",
              "      <td>Wife</td>\n",
              "      <td>White</td>\n",
              "      <td>Female</td>\n",
              "      <td>15024</td>\n",
              "      <td>0</td>\n",
              "      <td>40</td>\n",
              "      <td>0</td>\n",
              "      <td>&gt;50K</td>\n",
              "    </tr>\n",
              "  </tbody>\n",
              "</table>\n",
              "<p>32561 rows × 15 columns</p>\n",
              "</div>\n",
              "    <div class=\"colab-df-buttons\">\n",
              "\n",
              "  <div class=\"colab-df-container\">\n",
              "    <button class=\"colab-df-convert\" onclick=\"convertToInteractive('df-07c0ea13-0f05-48a7-a2fa-532d96435454')\"\n",
              "            title=\"Convert this dataframe to an interactive table.\"\n",
              "            style=\"display:none;\">\n",
              "\n",
              "  <svg xmlns=\"http://www.w3.org/2000/svg\" height=\"24px\" viewBox=\"0 -960 960 960\">\n",
              "    <path d=\"M120-120v-720h720v720H120Zm60-500h600v-160H180v160Zm220 220h160v-160H400v160Zm0 220h160v-160H400v160ZM180-400h160v-160H180v160Zm440 0h160v-160H620v160ZM180-180h160v-160H180v160Zm440 0h160v-160H620v160Z\"/>\n",
              "  </svg>\n",
              "    </button>\n",
              "\n",
              "  <style>\n",
              "    .colab-df-container {\n",
              "      display:flex;\n",
              "      gap: 12px;\n",
              "    }\n",
              "\n",
              "    .colab-df-convert {\n",
              "      background-color: #E8F0FE;\n",
              "      border: none;\n",
              "      border-radius: 50%;\n",
              "      cursor: pointer;\n",
              "      display: none;\n",
              "      fill: #1967D2;\n",
              "      height: 32px;\n",
              "      padding: 0 0 0 0;\n",
              "      width: 32px;\n",
              "    }\n",
              "\n",
              "    .colab-df-convert:hover {\n",
              "      background-color: #E2EBFA;\n",
              "      box-shadow: 0px 1px 2px rgba(60, 64, 67, 0.3), 0px 1px 3px 1px rgba(60, 64, 67, 0.15);\n",
              "      fill: #174EA6;\n",
              "    }\n",
              "\n",
              "    .colab-df-buttons div {\n",
              "      margin-bottom: 4px;\n",
              "    }\n",
              "\n",
              "    [theme=dark] .colab-df-convert {\n",
              "      background-color: #3B4455;\n",
              "      fill: #D2E3FC;\n",
              "    }\n",
              "\n",
              "    [theme=dark] .colab-df-convert:hover {\n",
              "      background-color: #434B5C;\n",
              "      box-shadow: 0px 1px 3px 1px rgba(0, 0, 0, 0.15);\n",
              "      filter: drop-shadow(0px 1px 2px rgba(0, 0, 0, 0.3));\n",
              "      fill: #FFFFFF;\n",
              "    }\n",
              "  </style>\n",
              "\n",
              "    <script>\n",
              "      const buttonEl =\n",
              "        document.querySelector('#df-07c0ea13-0f05-48a7-a2fa-532d96435454 button.colab-df-convert');\n",
              "      buttonEl.style.display =\n",
              "        google.colab.kernel.accessAllowed ? 'block' : 'none';\n",
              "\n",
              "      async function convertToInteractive(key) {\n",
              "        const element = document.querySelector('#df-07c0ea13-0f05-48a7-a2fa-532d96435454');\n",
              "        const dataTable =\n",
              "          await google.colab.kernel.invokeFunction('convertToInteractive',\n",
              "                                                    [key], {});\n",
              "        if (!dataTable) return;\n",
              "\n",
              "        const docLinkHtml = 'Like what you see? Visit the ' +\n",
              "          '<a target=\"_blank\" href=https://colab.research.google.com/notebooks/data_table.ipynb>data table notebook</a>'\n",
              "          + ' to learn more about interactive tables.';\n",
              "        element.innerHTML = '';\n",
              "        dataTable['output_type'] = 'display_data';\n",
              "        await google.colab.output.renderOutput(dataTable, element);\n",
              "        const docLink = document.createElement('div');\n",
              "        docLink.innerHTML = docLinkHtml;\n",
              "        element.appendChild(docLink);\n",
              "      }\n",
              "    </script>\n",
              "  </div>\n",
              "\n",
              "\n",
              "<div id=\"df-c34b19e7-112d-45e5-aa10-97292cfc20ee\">\n",
              "  <button class=\"colab-df-quickchart\" onclick=\"quickchart('df-c34b19e7-112d-45e5-aa10-97292cfc20ee')\"\n",
              "            title=\"Suggest charts\"\n",
              "            style=\"display:none;\">\n",
              "\n",
              "<svg xmlns=\"http://www.w3.org/2000/svg\" height=\"24px\"viewBox=\"0 0 24 24\"\n",
              "     width=\"24px\">\n",
              "    <g>\n",
              "        <path d=\"M19 3H5c-1.1 0-2 .9-2 2v14c0 1.1.9 2 2 2h14c1.1 0 2-.9 2-2V5c0-1.1-.9-2-2-2zM9 17H7v-7h2v7zm4 0h-2V7h2v10zm4 0h-2v-4h2v4z\"/>\n",
              "    </g>\n",
              "</svg>\n",
              "  </button>\n",
              "\n",
              "<style>\n",
              "  .colab-df-quickchart {\n",
              "      --bg-color: #E8F0FE;\n",
              "      --fill-color: #1967D2;\n",
              "      --hover-bg-color: #E2EBFA;\n",
              "      --hover-fill-color: #174EA6;\n",
              "      --disabled-fill-color: #AAA;\n",
              "      --disabled-bg-color: #DDD;\n",
              "  }\n",
              "\n",
              "  [theme=dark] .colab-df-quickchart {\n",
              "      --bg-color: #3B4455;\n",
              "      --fill-color: #D2E3FC;\n",
              "      --hover-bg-color: #434B5C;\n",
              "      --hover-fill-color: #FFFFFF;\n",
              "      --disabled-bg-color: #3B4455;\n",
              "      --disabled-fill-color: #666;\n",
              "  }\n",
              "\n",
              "  .colab-df-quickchart {\n",
              "    background-color: var(--bg-color);\n",
              "    border: none;\n",
              "    border-radius: 50%;\n",
              "    cursor: pointer;\n",
              "    display: none;\n",
              "    fill: var(--fill-color);\n",
              "    height: 32px;\n",
              "    padding: 0;\n",
              "    width: 32px;\n",
              "  }\n",
              "\n",
              "  .colab-df-quickchart:hover {\n",
              "    background-color: var(--hover-bg-color);\n",
              "    box-shadow: 0 1px 2px rgba(60, 64, 67, 0.3), 0 1px 3px 1px rgba(60, 64, 67, 0.15);\n",
              "    fill: var(--button-hover-fill-color);\n",
              "  }\n",
              "\n",
              "  .colab-df-quickchart-complete:disabled,\n",
              "  .colab-df-quickchart-complete:disabled:hover {\n",
              "    background-color: var(--disabled-bg-color);\n",
              "    fill: var(--disabled-fill-color);\n",
              "    box-shadow: none;\n",
              "  }\n",
              "\n",
              "  .colab-df-spinner {\n",
              "    border: 2px solid var(--fill-color);\n",
              "    border-color: transparent;\n",
              "    border-bottom-color: var(--fill-color);\n",
              "    animation:\n",
              "      spin 1s steps(1) infinite;\n",
              "  }\n",
              "\n",
              "  @keyframes spin {\n",
              "    0% {\n",
              "      border-color: transparent;\n",
              "      border-bottom-color: var(--fill-color);\n",
              "      border-left-color: var(--fill-color);\n",
              "    }\n",
              "    20% {\n",
              "      border-color: transparent;\n",
              "      border-left-color: var(--fill-color);\n",
              "      border-top-color: var(--fill-color);\n",
              "    }\n",
              "    30% {\n",
              "      border-color: transparent;\n",
              "      border-left-color: var(--fill-color);\n",
              "      border-top-color: var(--fill-color);\n",
              "      border-right-color: var(--fill-color);\n",
              "    }\n",
              "    40% {\n",
              "      border-color: transparent;\n",
              "      border-right-color: var(--fill-color);\n",
              "      border-top-color: var(--fill-color);\n",
              "    }\n",
              "    60% {\n",
              "      border-color: transparent;\n",
              "      border-right-color: var(--fill-color);\n",
              "    }\n",
              "    80% {\n",
              "      border-color: transparent;\n",
              "      border-right-color: var(--fill-color);\n",
              "      border-bottom-color: var(--fill-color);\n",
              "    }\n",
              "    90% {\n",
              "      border-color: transparent;\n",
              "      border-bottom-color: var(--fill-color);\n",
              "    }\n",
              "  }\n",
              "</style>\n",
              "\n",
              "  <script>\n",
              "    async function quickchart(key) {\n",
              "      const quickchartButtonEl =\n",
              "        document.querySelector('#' + key + ' button');\n",
              "      quickchartButtonEl.disabled = true;  // To prevent multiple clicks.\n",
              "      quickchartButtonEl.classList.add('colab-df-spinner');\n",
              "      try {\n",
              "        const charts = await google.colab.kernel.invokeFunction(\n",
              "            'suggestCharts', [key], {});\n",
              "      } catch (error) {\n",
              "        console.error('Error during call to suggestCharts:', error);\n",
              "      }\n",
              "      quickchartButtonEl.classList.remove('colab-df-spinner');\n",
              "      quickchartButtonEl.classList.add('colab-df-quickchart-complete');\n",
              "    }\n",
              "    (() => {\n",
              "      let quickchartButtonEl =\n",
              "        document.querySelector('#df-c34b19e7-112d-45e5-aa10-97292cfc20ee button');\n",
              "      quickchartButtonEl.style.display =\n",
              "        google.colab.kernel.accessAllowed ? 'block' : 'none';\n",
              "    })();\n",
              "  </script>\n",
              "</div>\n",
              "\n",
              "  <div id=\"id_51d5d43b-4ba4-471f-ab6b-c57d89721ef3\">\n",
              "    <style>\n",
              "      .colab-df-generate {\n",
              "        background-color: #E8F0FE;\n",
              "        border: none;\n",
              "        border-radius: 50%;\n",
              "        cursor: pointer;\n",
              "        display: none;\n",
              "        fill: #1967D2;\n",
              "        height: 32px;\n",
              "        padding: 0 0 0 0;\n",
              "        width: 32px;\n",
              "      }\n",
              "\n",
              "      .colab-df-generate:hover {\n",
              "        background-color: #E2EBFA;\n",
              "        box-shadow: 0px 1px 2px rgba(60, 64, 67, 0.3), 0px 1px 3px 1px rgba(60, 64, 67, 0.15);\n",
              "        fill: #174EA6;\n",
              "      }\n",
              "\n",
              "      [theme=dark] .colab-df-generate {\n",
              "        background-color: #3B4455;\n",
              "        fill: #D2E3FC;\n",
              "      }\n",
              "\n",
              "      [theme=dark] .colab-df-generate:hover {\n",
              "        background-color: #434B5C;\n",
              "        box-shadow: 0px 1px 3px 1px rgba(0, 0, 0, 0.15);\n",
              "        filter: drop-shadow(0px 1px 2px rgba(0, 0, 0, 0.3));\n",
              "        fill: #FFFFFF;\n",
              "      }\n",
              "    </style>\n",
              "    <button class=\"colab-df-generate\" onclick=\"generateWithVariable('df')\"\n",
              "            title=\"Generate code using this dataframe.\"\n",
              "            style=\"display:none;\">\n",
              "\n",
              "  <svg xmlns=\"http://www.w3.org/2000/svg\" height=\"24px\"viewBox=\"0 0 24 24\"\n",
              "       width=\"24px\">\n",
              "    <path d=\"M7,19H8.4L18.45,9,17,7.55,7,17.6ZM5,21V16.75L18.45,3.32a2,2,0,0,1,2.83,0l1.4,1.43a1.91,1.91,0,0,1,.58,1.4,1.91,1.91,0,0,1-.58,1.4L9.25,21ZM18.45,9,17,7.55Zm-12,3A5.31,5.31,0,0,0,4.9,8.1,5.31,5.31,0,0,0,1,6.5,5.31,5.31,0,0,0,4.9,4.9,5.31,5.31,0,0,0,6.5,1,5.31,5.31,0,0,0,8.1,4.9,5.31,5.31,0,0,0,12,6.5,5.46,5.46,0,0,0,6.5,12Z\"/>\n",
              "  </svg>\n",
              "    </button>\n",
              "    <script>\n",
              "      (() => {\n",
              "      const buttonEl =\n",
              "        document.querySelector('#id_51d5d43b-4ba4-471f-ab6b-c57d89721ef3 button.colab-df-generate');\n",
              "      buttonEl.style.display =\n",
              "        google.colab.kernel.accessAllowed ? 'block' : 'none';\n",
              "\n",
              "      buttonEl.onclick = () => {\n",
              "        google.colab.notebook.generateWithVariable('df');\n",
              "      }\n",
              "      })();\n",
              "    </script>\n",
              "  </div>\n",
              "\n",
              "    </div>\n",
              "  </div>\n"
            ],
            "application/vnd.google.colaboratory.intrinsic+json": {
              "type": "dataframe",
              "variable_name": "df",
              "summary": "{\n  \"name\": \"df\",\n  \"rows\": 32561,\n  \"fields\": [\n    {\n      \"column\": \"age\",\n      \"properties\": {\n        \"dtype\": \"number\",\n        \"std\": 13,\n        \"min\": 17,\n        \"max\": 90,\n        \"num_unique_values\": 73,\n        \"samples\": [\n          28,\n          73,\n          35\n        ],\n        \"semantic_type\": \"\",\n        \"description\": \"\"\n      }\n    },\n    {\n      \"column\": \"workclass\",\n      \"properties\": {\n        \"dtype\": \"number\",\n        \"std\": 1,\n        \"min\": 0,\n        \"max\": 8,\n        \"num_unique_values\": 9,\n        \"samples\": [\n          7,\n          1,\n          5\n        ],\n        \"semantic_type\": \"\",\n        \"description\": \"\"\n      }\n    },\n    {\n      \"column\": \"fnlwgt\",\n      \"properties\": {\n        \"dtype\": \"number\",\n        \"std\": 105549,\n        \"min\": 12285,\n        \"max\": 1484705,\n        \"num_unique_values\": 21648,\n        \"samples\": [\n          128485,\n          469907,\n          235951\n        ],\n        \"semantic_type\": \"\",\n        \"description\": \"\"\n      }\n    },\n    {\n      \"column\": \"education\",\n      \"properties\": {\n        \"dtype\": \"number\",\n        \"std\": 3,\n        \"min\": 0,\n        \"max\": 15,\n        \"num_unique_values\": 16,\n        \"samples\": [\n          0,\n          1,\n          5\n        ],\n        \"semantic_type\": \"\",\n        \"description\": \"\"\n      }\n    },\n    {\n      \"column\": \"education-num\",\n      \"properties\": {\n        \"dtype\": \"number\",\n        \"std\": 2,\n        \"min\": 1,\n        \"max\": 16,\n        \"num_unique_values\": 16,\n        \"samples\": [\n          13,\n          9,\n          10\n        ],\n        \"semantic_type\": \"\",\n        \"description\": \"\"\n      }\n    },\n    {\n      \"column\": \"marital-status\",\n      \"properties\": {\n        \"dtype\": \"category\",\n        \"num_unique_values\": 7,\n        \"samples\": [\n          \" Never-married\",\n          \" Married-civ-spouse\",\n          \" Married-AF-spouse\"\n        ],\n        \"semantic_type\": \"\",\n        \"description\": \"\"\n      }\n    },\n    {\n      \"column\": \"occupation\",\n      \"properties\": {\n        \"dtype\": \"number\",\n        \"std\": 3,\n        \"min\": 0,\n        \"max\": 14,\n        \"num_unique_values\": 15,\n        \"samples\": [\n          9,\n          11,\n          0\n        ],\n        \"semantic_type\": \"\",\n        \"description\": \"\"\n      }\n    },\n    {\n      \"column\": \"relationship\",\n      \"properties\": {\n        \"dtype\": \"category\",\n        \"num_unique_values\": 6,\n        \"samples\": [\n          \" Not-in-family\",\n          \" Husband\",\n          \" Other-relative\"\n        ],\n        \"semantic_type\": \"\",\n        \"description\": \"\"\n      }\n    },\n    {\n      \"column\": \"race\",\n      \"properties\": {\n        \"dtype\": \"category\",\n        \"num_unique_values\": 5,\n        \"samples\": [\n          \" Black\",\n          \" Other\",\n          \" Asian-Pac-Islander\"\n        ],\n        \"semantic_type\": \"\",\n        \"description\": \"\"\n      }\n    },\n    {\n      \"column\": \"sex\",\n      \"properties\": {\n        \"dtype\": \"category\",\n        \"num_unique_values\": 2,\n        \"samples\": [\n          \" Female\",\n          \" Male\"\n        ],\n        \"semantic_type\": \"\",\n        \"description\": \"\"\n      }\n    },\n    {\n      \"column\": \"capital-gain\",\n      \"properties\": {\n        \"dtype\": \"number\",\n        \"std\": 7385,\n        \"min\": 0,\n        \"max\": 99999,\n        \"num_unique_values\": 119,\n        \"samples\": [\n          3781,\n          15831\n        ],\n        \"semantic_type\": \"\",\n        \"description\": \"\"\n      }\n    },\n    {\n      \"column\": \"capital-loss\",\n      \"properties\": {\n        \"dtype\": \"number\",\n        \"std\": 402,\n        \"min\": 0,\n        \"max\": 4356,\n        \"num_unique_values\": 92,\n        \"samples\": [\n          419,\n          2051\n        ],\n        \"semantic_type\": \"\",\n        \"description\": \"\"\n      }\n    },\n    {\n      \"column\": \"hours-per-week\",\n      \"properties\": {\n        \"dtype\": \"number\",\n        \"std\": 12,\n        \"min\": 1,\n        \"max\": 99,\n        \"num_unique_values\": 94,\n        \"samples\": [\n          6,\n          22\n        ],\n        \"semantic_type\": \"\",\n        \"description\": \"\"\n      }\n    },\n    {\n      \"column\": \"native-country\",\n      \"properties\": {\n        \"dtype\": \"number\",\n        \"std\": 5,\n        \"min\": 0,\n        \"max\": 41,\n        \"num_unique_values\": 42,\n        \"samples\": [\n          25,\n          13\n        ],\n        \"semantic_type\": \"\",\n        \"description\": \"\"\n      }\n    },\n    {\n      \"column\": \"salary\",\n      \"properties\": {\n        \"dtype\": \"category\",\n        \"num_unique_values\": 2,\n        \"samples\": [\n          \" >50K\",\n          \" <=50K\"\n        ],\n        \"semantic_type\": \"\",\n        \"description\": \"\"\n      }\n    }\n  ]\n}"
            }
          },
          "metadata": {},
          "execution_count": 82
        }
      ]
    },
    {
      "cell_type": "markdown",
      "source": [
        "Untuk melihat gaji yang akan diklasifikasi"
      ],
      "metadata": {
        "id": "xgBozN2mJRLq"
      }
    },
    {
      "cell_type": "code",
      "source": [
        "df['salary'].value_counts()"
      ],
      "metadata": {
        "colab": {
          "base_uri": "https://localhost:8080/",
          "height": 178
        },
        "id": "BiOBxz4uFV7D",
        "outputId": "5dc099a5-cd5e-4539-e923-fb1a48bb7d3d"
      },
      "execution_count": null,
      "outputs": [
        {
          "output_type": "execute_result",
          "data": {
            "text/plain": [
              "salary\n",
              " <=50K    24720\n",
              " >50K      7841\n",
              "Name: count, dtype: int64"
            ],
            "text/html": [
              "<div>\n",
              "<style scoped>\n",
              "    .dataframe tbody tr th:only-of-type {\n",
              "        vertical-align: middle;\n",
              "    }\n",
              "\n",
              "    .dataframe tbody tr th {\n",
              "        vertical-align: top;\n",
              "    }\n",
              "\n",
              "    .dataframe thead th {\n",
              "        text-align: right;\n",
              "    }\n",
              "</style>\n",
              "<table border=\"1\" class=\"dataframe\">\n",
              "  <thead>\n",
              "    <tr style=\"text-align: right;\">\n",
              "      <th></th>\n",
              "      <th>count</th>\n",
              "    </tr>\n",
              "    <tr>\n",
              "      <th>salary</th>\n",
              "      <th></th>\n",
              "    </tr>\n",
              "  </thead>\n",
              "  <tbody>\n",
              "    <tr>\n",
              "      <th>&lt;=50K</th>\n",
              "      <td>24720</td>\n",
              "    </tr>\n",
              "    <tr>\n",
              "      <th>&gt;50K</th>\n",
              "      <td>7841</td>\n",
              "    </tr>\n",
              "  </tbody>\n",
              "</table>\n",
              "</div><br><label><b>dtype:</b> int64</label>"
            ]
          },
          "metadata": {},
          "execution_count": 10
        }
      ]
    },
    {
      "cell_type": "markdown",
      "source": [
        "### Training Model"
      ],
      "metadata": {
        "id": "azBM8g-uMUsq"
      }
    },
    {
      "cell_type": "markdown",
      "source": [
        "Pada tahap ini kita akan memisahkan feature data (`native-country`, `workclass`,`occupation`, `education`,`hours-per-week`,`age`) dari target data (`salary`). Feature untuk training akan disimpan dalam variabel `X` dan labelnya dalam variabel bernama `y`."
      ],
      "metadata": {
        "id": "qEsLoNrxLQlL"
      }
    },
    {
      "cell_type": "code",
      "source": [
        "X = df[['native-country', 'workclass', 'occupation', 'education','hours-per-week','age']]\n",
        "y = df['salary']"
      ],
      "metadata": {
        "id": "6HsXyzt2LyeI"
      },
      "execution_count": null,
      "outputs": []
    },
    {
      "cell_type": "markdown",
      "source": [
        "Selanjutnya kita akan melakukan splitting dataset: 80% untuk training dataset dan 20% sebagai testing dataset."
      ],
      "metadata": {
        "id": "LF4V56h1L_w2"
      }
    },
    {
      "cell_type": "code",
      "source": [
        "import sklearn.model_selection as ms\n",
        "X_train, X_test, y_train, y_test = ms.train_test_split(X, y, test_size=0.2, random_state=42)"
      ],
      "metadata": {
        "id": "3fnRY3TQMEp2"
      },
      "execution_count": null,
      "outputs": []
    },
    {
      "cell_type": "markdown",
      "source": [
        "Dikarenakan di scikitlearn sudah terdapat implementasi decision tree, maka kita tinggal menggunakan nya saja."
      ],
      "metadata": {
        "id": "gVP0YCB0Nzmn"
      }
    },
    {
      "cell_type": "code",
      "source": [
        "import sklearn.tree as tree"
      ],
      "metadata": {
        "id": "8nhgPyJiNvdR"
      },
      "execution_count": null,
      "outputs": []
    },
    {
      "cell_type": "markdown",
      "source": [
        "### Pengujian Performa Model"
      ],
      "metadata": {
        "id": "qquZiuSOTHOE"
      }
    },
    {
      "cell_type": "markdown",
      "source": [
        "kita akan melatih model dengan menggunakan entropy sebagai kriteria pengukuran proses splitting.\n",
        "\n",
        "Kita juga bisa menentukan jumlah maksimal kedalaman tree, dalam hal ini kita batasi 5 tingkat saja (max_depth=5)."
      ],
      "metadata": {
        "id": "9qPV9PsdOGvh"
      }
    },
    {
      "cell_type": "code",
      "source": [
        "model = tree.DecisionTreeClassifier(criterion='entropy', max_depth=5)\n",
        "model.fit(X_train, y_train)"
      ],
      "metadata": {
        "colab": {
          "base_uri": "https://localhost:8080/",
          "height": 74
        },
        "id": "wbRdPn5-OSCz",
        "outputId": "5d63a256-3024-412e-995b-c94113581c44"
      },
      "execution_count": null,
      "outputs": [
        {
          "output_type": "execute_result",
          "data": {
            "text/plain": [
              "DecisionTreeClassifier(criterion='entropy', max_depth=5)"
            ],
            "text/html": [
              "<style>#sk-container-id-5 {color: black;}#sk-container-id-5 pre{padding: 0;}#sk-container-id-5 div.sk-toggleable {background-color: white;}#sk-container-id-5 label.sk-toggleable__label {cursor: pointer;display: block;width: 100%;margin-bottom: 0;padding: 0.3em;box-sizing: border-box;text-align: center;}#sk-container-id-5 label.sk-toggleable__label-arrow:before {content: \"▸\";float: left;margin-right: 0.25em;color: #696969;}#sk-container-id-5 label.sk-toggleable__label-arrow:hover:before {color: black;}#sk-container-id-5 div.sk-estimator:hover label.sk-toggleable__label-arrow:before {color: black;}#sk-container-id-5 div.sk-toggleable__content {max-height: 0;max-width: 0;overflow: hidden;text-align: left;background-color: #f0f8ff;}#sk-container-id-5 div.sk-toggleable__content pre {margin: 0.2em;color: black;border-radius: 0.25em;background-color: #f0f8ff;}#sk-container-id-5 input.sk-toggleable__control:checked~div.sk-toggleable__content {max-height: 200px;max-width: 100%;overflow: auto;}#sk-container-id-5 input.sk-toggleable__control:checked~label.sk-toggleable__label-arrow:before {content: \"▾\";}#sk-container-id-5 div.sk-estimator input.sk-toggleable__control:checked~label.sk-toggleable__label {background-color: #d4ebff;}#sk-container-id-5 div.sk-label input.sk-toggleable__control:checked~label.sk-toggleable__label {background-color: #d4ebff;}#sk-container-id-5 input.sk-hidden--visually {border: 0;clip: rect(1px 1px 1px 1px);clip: rect(1px, 1px, 1px, 1px);height: 1px;margin: -1px;overflow: hidden;padding: 0;position: absolute;width: 1px;}#sk-container-id-5 div.sk-estimator {font-family: monospace;background-color: #f0f8ff;border: 1px dotted black;border-radius: 0.25em;box-sizing: border-box;margin-bottom: 0.5em;}#sk-container-id-5 div.sk-estimator:hover {background-color: #d4ebff;}#sk-container-id-5 div.sk-parallel-item::after {content: \"\";width: 100%;border-bottom: 1px solid gray;flex-grow: 1;}#sk-container-id-5 div.sk-label:hover label.sk-toggleable__label {background-color: #d4ebff;}#sk-container-id-5 div.sk-serial::before {content: \"\";position: absolute;border-left: 1px solid gray;box-sizing: border-box;top: 0;bottom: 0;left: 50%;z-index: 0;}#sk-container-id-5 div.sk-serial {display: flex;flex-direction: column;align-items: center;background-color: white;padding-right: 0.2em;padding-left: 0.2em;position: relative;}#sk-container-id-5 div.sk-item {position: relative;z-index: 1;}#sk-container-id-5 div.sk-parallel {display: flex;align-items: stretch;justify-content: center;background-color: white;position: relative;}#sk-container-id-5 div.sk-item::before, #sk-container-id-5 div.sk-parallel-item::before {content: \"\";position: absolute;border-left: 1px solid gray;box-sizing: border-box;top: 0;bottom: 0;left: 50%;z-index: -1;}#sk-container-id-5 div.sk-parallel-item {display: flex;flex-direction: column;z-index: 1;position: relative;background-color: white;}#sk-container-id-5 div.sk-parallel-item:first-child::after {align-self: flex-end;width: 50%;}#sk-container-id-5 div.sk-parallel-item:last-child::after {align-self: flex-start;width: 50%;}#sk-container-id-5 div.sk-parallel-item:only-child::after {width: 0;}#sk-container-id-5 div.sk-dashed-wrapped {border: 1px dashed gray;margin: 0 0.4em 0.5em 0.4em;box-sizing: border-box;padding-bottom: 0.4em;background-color: white;}#sk-container-id-5 div.sk-label label {font-family: monospace;font-weight: bold;display: inline-block;line-height: 1.2em;}#sk-container-id-5 div.sk-label-container {text-align: center;}#sk-container-id-5 div.sk-container {/* jupyter's `normalize.less` sets `[hidden] { display: none; }` but bootstrap.min.css set `[hidden] { display: none !important; }` so we also need the `!important` here to be able to override the default hidden behavior on the sphinx rendered scikit-learn.org. See: https://github.com/scikit-learn/scikit-learn/issues/21755 */display: inline-block !important;position: relative;}#sk-container-id-5 div.sk-text-repr-fallback {display: none;}</style><div id=\"sk-container-id-5\" class=\"sk-top-container\"><div class=\"sk-text-repr-fallback\"><pre>DecisionTreeClassifier(criterion=&#x27;entropy&#x27;, max_depth=5)</pre><b>In a Jupyter environment, please rerun this cell to show the HTML representation or trust the notebook. <br />On GitHub, the HTML representation is unable to render, please try loading this page with nbviewer.org.</b></div><div class=\"sk-container\" hidden><div class=\"sk-item\"><div class=\"sk-estimator sk-toggleable\"><input class=\"sk-toggleable__control sk-hidden--visually\" id=\"sk-estimator-id-5\" type=\"checkbox\" checked><label for=\"sk-estimator-id-5\" class=\"sk-toggleable__label sk-toggleable__label-arrow\">DecisionTreeClassifier</label><div class=\"sk-toggleable__content\"><pre>DecisionTreeClassifier(criterion=&#x27;entropy&#x27;, max_depth=5)</pre></div></div></div></div></div>"
            ]
          },
          "metadata": {},
          "execution_count": 29
        }
      ]
    },
    {
      "cell_type": "markdown",
      "source": [
        "Sampai titik ini model sudah terbangun dan bisa diuji dengan testing dataset."
      ],
      "metadata": {
        "id": "louS1m0FaviN"
      }
    },
    {
      "cell_type": "code",
      "source": [
        "y_prediksi = model.predict(X_test)"
      ],
      "metadata": {
        "id": "IDblIYGrTKJS"
      },
      "execution_count": null,
      "outputs": []
    },
    {
      "cell_type": "code",
      "source": [
        "print(y_prediksi)"
      ],
      "metadata": {
        "colab": {
          "base_uri": "https://localhost:8080/"
        },
        "id": "kEgZSAXQTNRs",
        "outputId": "2d1ee6ef-a5e3-4ee7-ef14-b94d1b19f39a"
      },
      "execution_count": null,
      "outputs": [
        {
          "output_type": "stream",
          "name": "stdout",
          "text": [
            "[' <=50K' ' <=50K' ' >50K' ... ' >50K' ' <=50K' ' <=50K']\n"
          ]
        }
      ]
    },
    {
      "cell_type": "code",
      "source": [
        "print(y_test)"
      ],
      "metadata": {
        "colab": {
          "base_uri": "https://localhost:8080/"
        },
        "id": "Y9IW3wUgTRJP",
        "outputId": "beb17648-68a9-4370-f9d1-1d18cc6ea200"
      },
      "execution_count": null,
      "outputs": [
        {
          "output_type": "stream",
          "name": "stdout",
          "text": [
            "14160     <=50K\n",
            "27048     <=50K\n",
            "28868      >50K\n",
            "5667      <=50K\n",
            "7827      <=50K\n",
            "          ...  \n",
            "1338      <=50K\n",
            "24534      >50K\n",
            "18080      >50K\n",
            "10354     <=50K\n",
            "24639     <=50K\n",
            "Name: salary, Length: 6513, dtype: object\n"
          ]
        }
      ]
    },
    {
      "cell_type": "code",
      "source": [
        "import sklearn.metrics as met"
      ],
      "metadata": {
        "id": "F-jEgjAoTZrl"
      },
      "execution_count": null,
      "outputs": []
    },
    {
      "cell_type": "code",
      "source": [
        "print(met.accuracy_score(y_test, y_prediksi))"
      ],
      "metadata": {
        "colab": {
          "base_uri": "https://localhost:8080/"
        },
        "id": "2ChUZh79Tbrq",
        "outputId": "76c6ce66-0ece-4311-8f3f-3eae0a2c20fe"
      },
      "execution_count": null,
      "outputs": [
        {
          "output_type": "stream",
          "name": "stdout",
          "text": [
            "0.7847382158759404\n"
          ]
        }
      ]
    },
    {
      "cell_type": "markdown",
      "source": [
        "Akurasi model  78.4% yang artinya sudah cukup baik. Namun, kita akan mencoba meningkatkan akurasi. dengan mengganti criterion splitting dari `entropy` menjadi `gini` dan ulang proses di atas untuk membandingkan hasilnya."
      ],
      "metadata": {
        "id": "JKXwnQe2VLHV"
      }
    },
    {
      "cell_type": "code",
      "source": [
        "model2 = tree.DecisionTreeClassifier(criterion='gini', max_depth=5)\n",
        "model2.fit(X_train, y_train)"
      ],
      "metadata": {
        "colab": {
          "base_uri": "https://localhost:8080/",
          "height": 74
        },
        "id": "l3zvHx-ZTve8",
        "outputId": "41ee6ce3-d4c9-43fa-ebc5-fe29c988dbea"
      },
      "execution_count": null,
      "outputs": [
        {
          "output_type": "execute_result",
          "data": {
            "text/plain": [
              "DecisionTreeClassifier(max_depth=5)"
            ],
            "text/html": [
              "<style>#sk-container-id-6 {color: black;}#sk-container-id-6 pre{padding: 0;}#sk-container-id-6 div.sk-toggleable {background-color: white;}#sk-container-id-6 label.sk-toggleable__label {cursor: pointer;display: block;width: 100%;margin-bottom: 0;padding: 0.3em;box-sizing: border-box;text-align: center;}#sk-container-id-6 label.sk-toggleable__label-arrow:before {content: \"▸\";float: left;margin-right: 0.25em;color: #696969;}#sk-container-id-6 label.sk-toggleable__label-arrow:hover:before {color: black;}#sk-container-id-6 div.sk-estimator:hover label.sk-toggleable__label-arrow:before {color: black;}#sk-container-id-6 div.sk-toggleable__content {max-height: 0;max-width: 0;overflow: hidden;text-align: left;background-color: #f0f8ff;}#sk-container-id-6 div.sk-toggleable__content pre {margin: 0.2em;color: black;border-radius: 0.25em;background-color: #f0f8ff;}#sk-container-id-6 input.sk-toggleable__control:checked~div.sk-toggleable__content {max-height: 200px;max-width: 100%;overflow: auto;}#sk-container-id-6 input.sk-toggleable__control:checked~label.sk-toggleable__label-arrow:before {content: \"▾\";}#sk-container-id-6 div.sk-estimator input.sk-toggleable__control:checked~label.sk-toggleable__label {background-color: #d4ebff;}#sk-container-id-6 div.sk-label input.sk-toggleable__control:checked~label.sk-toggleable__label {background-color: #d4ebff;}#sk-container-id-6 input.sk-hidden--visually {border: 0;clip: rect(1px 1px 1px 1px);clip: rect(1px, 1px, 1px, 1px);height: 1px;margin: -1px;overflow: hidden;padding: 0;position: absolute;width: 1px;}#sk-container-id-6 div.sk-estimator {font-family: monospace;background-color: #f0f8ff;border: 1px dotted black;border-radius: 0.25em;box-sizing: border-box;margin-bottom: 0.5em;}#sk-container-id-6 div.sk-estimator:hover {background-color: #d4ebff;}#sk-container-id-6 div.sk-parallel-item::after {content: \"\";width: 100%;border-bottom: 1px solid gray;flex-grow: 1;}#sk-container-id-6 div.sk-label:hover label.sk-toggleable__label {background-color: #d4ebff;}#sk-container-id-6 div.sk-serial::before {content: \"\";position: absolute;border-left: 1px solid gray;box-sizing: border-box;top: 0;bottom: 0;left: 50%;z-index: 0;}#sk-container-id-6 div.sk-serial {display: flex;flex-direction: column;align-items: center;background-color: white;padding-right: 0.2em;padding-left: 0.2em;position: relative;}#sk-container-id-6 div.sk-item {position: relative;z-index: 1;}#sk-container-id-6 div.sk-parallel {display: flex;align-items: stretch;justify-content: center;background-color: white;position: relative;}#sk-container-id-6 div.sk-item::before, #sk-container-id-6 div.sk-parallel-item::before {content: \"\";position: absolute;border-left: 1px solid gray;box-sizing: border-box;top: 0;bottom: 0;left: 50%;z-index: -1;}#sk-container-id-6 div.sk-parallel-item {display: flex;flex-direction: column;z-index: 1;position: relative;background-color: white;}#sk-container-id-6 div.sk-parallel-item:first-child::after {align-self: flex-end;width: 50%;}#sk-container-id-6 div.sk-parallel-item:last-child::after {align-self: flex-start;width: 50%;}#sk-container-id-6 div.sk-parallel-item:only-child::after {width: 0;}#sk-container-id-6 div.sk-dashed-wrapped {border: 1px dashed gray;margin: 0 0.4em 0.5em 0.4em;box-sizing: border-box;padding-bottom: 0.4em;background-color: white;}#sk-container-id-6 div.sk-label label {font-family: monospace;font-weight: bold;display: inline-block;line-height: 1.2em;}#sk-container-id-6 div.sk-label-container {text-align: center;}#sk-container-id-6 div.sk-container {/* jupyter's `normalize.less` sets `[hidden] { display: none; }` but bootstrap.min.css set `[hidden] { display: none !important; }` so we also need the `!important` here to be able to override the default hidden behavior on the sphinx rendered scikit-learn.org. See: https://github.com/scikit-learn/scikit-learn/issues/21755 */display: inline-block !important;position: relative;}#sk-container-id-6 div.sk-text-repr-fallback {display: none;}</style><div id=\"sk-container-id-6\" class=\"sk-top-container\"><div class=\"sk-text-repr-fallback\"><pre>DecisionTreeClassifier(max_depth=5)</pre><b>In a Jupyter environment, please rerun this cell to show the HTML representation or trust the notebook. <br />On GitHub, the HTML representation is unable to render, please try loading this page with nbviewer.org.</b></div><div class=\"sk-container\" hidden><div class=\"sk-item\"><div class=\"sk-estimator sk-toggleable\"><input class=\"sk-toggleable__control sk-hidden--visually\" id=\"sk-estimator-id-6\" type=\"checkbox\" checked><label for=\"sk-estimator-id-6\" class=\"sk-toggleable__label sk-toggleable__label-arrow\">DecisionTreeClassifier</label><div class=\"sk-toggleable__content\"><pre>DecisionTreeClassifier(max_depth=5)</pre></div></div></div></div></div>"
            ]
          },
          "metadata": {},
          "execution_count": 34
        }
      ]
    },
    {
      "cell_type": "code",
      "source": [
        "y_prediksi = model2.predict(X_test)\n",
        "print(y_prediksi)\n",
        "print(met.accuracy_score(y_test, y_prediksi))\n"
      ],
      "metadata": {
        "colab": {
          "base_uri": "https://localhost:8080/"
        },
        "id": "s-FndkVbTzND",
        "outputId": "8eae5b57-aa55-4ac6-c0ac-fb77c1293e18"
      },
      "execution_count": null,
      "outputs": [
        {
          "output_type": "stream",
          "name": "stdout",
          "text": [
            "[' <=50K' ' <=50K' ' <=50K' ... ' >50K' ' <=50K' ' <=50K']\n",
            "0.7885766927683096\n"
          ]
        }
      ]
    },
    {
      "cell_type": "markdown",
      "source": [
        "Hasil yang didapatkan oleh `gini` 78,8%.\n",
        "lebih baik sedikit daripada menggunakan `entrophy`"
      ],
      "metadata": {
        "id": "xUc3fkG7T5_p"
      }
    },
    {
      "cell_type": "markdown",
      "source": [
        "Lalu kita akan mencoba dengan `depth tree` yang berbeda untuk kriteria entroph, dimana menggunakan nama model yang berbeda"
      ],
      "metadata": {
        "id": "qEDLpn62-lF2"
      }
    },
    {
      "cell_type": "code",
      "source": [
        "model3 = tree.DecisionTreeClassifier(criterion='entropy', max_depth=8)\n",
        "model3.fit(X_train, y_train)"
      ],
      "metadata": {
        "colab": {
          "base_uri": "https://localhost:8080/",
          "height": 74
        },
        "id": "klvROkmT-vPK",
        "outputId": "ce63c785-3ab5-4538-da62-888779946000"
      },
      "execution_count": null,
      "outputs": [
        {
          "output_type": "execute_result",
          "data": {
            "text/plain": [
              "DecisionTreeClassifier(criterion='entropy', max_depth=8)"
            ],
            "text/html": [
              "<style>#sk-container-id-7 {color: black;}#sk-container-id-7 pre{padding: 0;}#sk-container-id-7 div.sk-toggleable {background-color: white;}#sk-container-id-7 label.sk-toggleable__label {cursor: pointer;display: block;width: 100%;margin-bottom: 0;padding: 0.3em;box-sizing: border-box;text-align: center;}#sk-container-id-7 label.sk-toggleable__label-arrow:before {content: \"▸\";float: left;margin-right: 0.25em;color: #696969;}#sk-container-id-7 label.sk-toggleable__label-arrow:hover:before {color: black;}#sk-container-id-7 div.sk-estimator:hover label.sk-toggleable__label-arrow:before {color: black;}#sk-container-id-7 div.sk-toggleable__content {max-height: 0;max-width: 0;overflow: hidden;text-align: left;background-color: #f0f8ff;}#sk-container-id-7 div.sk-toggleable__content pre {margin: 0.2em;color: black;border-radius: 0.25em;background-color: #f0f8ff;}#sk-container-id-7 input.sk-toggleable__control:checked~div.sk-toggleable__content {max-height: 200px;max-width: 100%;overflow: auto;}#sk-container-id-7 input.sk-toggleable__control:checked~label.sk-toggleable__label-arrow:before {content: \"▾\";}#sk-container-id-7 div.sk-estimator input.sk-toggleable__control:checked~label.sk-toggleable__label {background-color: #d4ebff;}#sk-container-id-7 div.sk-label input.sk-toggleable__control:checked~label.sk-toggleable__label {background-color: #d4ebff;}#sk-container-id-7 input.sk-hidden--visually {border: 0;clip: rect(1px 1px 1px 1px);clip: rect(1px, 1px, 1px, 1px);height: 1px;margin: -1px;overflow: hidden;padding: 0;position: absolute;width: 1px;}#sk-container-id-7 div.sk-estimator {font-family: monospace;background-color: #f0f8ff;border: 1px dotted black;border-radius: 0.25em;box-sizing: border-box;margin-bottom: 0.5em;}#sk-container-id-7 div.sk-estimator:hover {background-color: #d4ebff;}#sk-container-id-7 div.sk-parallel-item::after {content: \"\";width: 100%;border-bottom: 1px solid gray;flex-grow: 1;}#sk-container-id-7 div.sk-label:hover label.sk-toggleable__label {background-color: #d4ebff;}#sk-container-id-7 div.sk-serial::before {content: \"\";position: absolute;border-left: 1px solid gray;box-sizing: border-box;top: 0;bottom: 0;left: 50%;z-index: 0;}#sk-container-id-7 div.sk-serial {display: flex;flex-direction: column;align-items: center;background-color: white;padding-right: 0.2em;padding-left: 0.2em;position: relative;}#sk-container-id-7 div.sk-item {position: relative;z-index: 1;}#sk-container-id-7 div.sk-parallel {display: flex;align-items: stretch;justify-content: center;background-color: white;position: relative;}#sk-container-id-7 div.sk-item::before, #sk-container-id-7 div.sk-parallel-item::before {content: \"\";position: absolute;border-left: 1px solid gray;box-sizing: border-box;top: 0;bottom: 0;left: 50%;z-index: -1;}#sk-container-id-7 div.sk-parallel-item {display: flex;flex-direction: column;z-index: 1;position: relative;background-color: white;}#sk-container-id-7 div.sk-parallel-item:first-child::after {align-self: flex-end;width: 50%;}#sk-container-id-7 div.sk-parallel-item:last-child::after {align-self: flex-start;width: 50%;}#sk-container-id-7 div.sk-parallel-item:only-child::after {width: 0;}#sk-container-id-7 div.sk-dashed-wrapped {border: 1px dashed gray;margin: 0 0.4em 0.5em 0.4em;box-sizing: border-box;padding-bottom: 0.4em;background-color: white;}#sk-container-id-7 div.sk-label label {font-family: monospace;font-weight: bold;display: inline-block;line-height: 1.2em;}#sk-container-id-7 div.sk-label-container {text-align: center;}#sk-container-id-7 div.sk-container {/* jupyter's `normalize.less` sets `[hidden] { display: none; }` but bootstrap.min.css set `[hidden] { display: none !important; }` so we also need the `!important` here to be able to override the default hidden behavior on the sphinx rendered scikit-learn.org. See: https://github.com/scikit-learn/scikit-learn/issues/21755 */display: inline-block !important;position: relative;}#sk-container-id-7 div.sk-text-repr-fallback {display: none;}</style><div id=\"sk-container-id-7\" class=\"sk-top-container\"><div class=\"sk-text-repr-fallback\"><pre>DecisionTreeClassifier(criterion=&#x27;entropy&#x27;, max_depth=8)</pre><b>In a Jupyter environment, please rerun this cell to show the HTML representation or trust the notebook. <br />On GitHub, the HTML representation is unable to render, please try loading this page with nbviewer.org.</b></div><div class=\"sk-container\" hidden><div class=\"sk-item\"><div class=\"sk-estimator sk-toggleable\"><input class=\"sk-toggleable__control sk-hidden--visually\" id=\"sk-estimator-id-7\" type=\"checkbox\" checked><label for=\"sk-estimator-id-7\" class=\"sk-toggleable__label sk-toggleable__label-arrow\">DecisionTreeClassifier</label><div class=\"sk-toggleable__content\"><pre>DecisionTreeClassifier(criterion=&#x27;entropy&#x27;, max_depth=8)</pre></div></div></div></div></div>"
            ]
          },
          "metadata": {},
          "execution_count": 36
        }
      ]
    },
    {
      "cell_type": "code",
      "source": [
        "y_prediksi = model3.predict(X_test)\n",
        "print(y_prediksi)\n",
        "print(met.accuracy_score(y_test, y_prediksi))"
      ],
      "metadata": {
        "colab": {
          "base_uri": "https://localhost:8080/"
        },
        "id": "GNgk5WvN-9Pw",
        "outputId": "a979ef3b-4793-427f-b9fe-430037235661"
      },
      "execution_count": null,
      "outputs": [
        {
          "output_type": "stream",
          "name": "stdout",
          "text": [
            "[' <=50K' ' <=50K' ' >50K' ... ' >50K' ' <=50K' ' <=50K']\n",
            "0.79149393520651\n"
          ]
        }
      ]
    },
    {
      "cell_type": "markdown",
      "source": [
        "Hasil menggunakan depth 8  didapatkan lebih tinggi dibanding dengan depth 5 dan menggunakan kriteria entrophy, sehingga dapat disimpulkan `depth tree` berpengaruh terhadap akurasi machine learning"
      ],
      "metadata": {
        "id": "NV6JfLk1_JhC"
      }
    },
    {
      "cell_type": "markdown",
      "source": [
        "## **Tahapan akhir : Visualisasi**"
      ],
      "metadata": {
        "id": "xV2DDWHba8yE"
      }
    },
    {
      "cell_type": "markdown",
      "source": [
        "Mengisntall library yang diperlukan, dikarenakan google colab belum menyediakan untuk library berikut"
      ],
      "metadata": {
        "id": "fwVmq6Md8Nec"
      }
    },
    {
      "cell_type": "code",
      "source": [
        "!pip install pydotplus\n",
        "!pip install graphviz"
      ],
      "metadata": {
        "colab": {
          "base_uri": "https://localhost:8080/"
        },
        "id": "5k0PFEvjbGRu",
        "outputId": "20a05159-4dc7-49d3-8b15-82e99eaa48f3"
      },
      "execution_count": null,
      "outputs": [
        {
          "output_type": "stream",
          "name": "stdout",
          "text": [
            "Requirement already satisfied: pydotplus in /usr/local/lib/python3.10/dist-packages (2.0.2)\n",
            "Requirement already satisfied: pyparsing>=2.0.1 in /usr/local/lib/python3.10/dist-packages (from pydotplus) (3.1.4)\n",
            "Requirement already satisfied: graphviz in /usr/local/lib/python3.10/dist-packages (0.20.3)\n"
          ]
        }
      ]
    },
    {
      "cell_type": "code",
      "source": [
        "import pydotplus as pp\n",
        "import graphviz"
      ],
      "metadata": {
        "id": "YxkMibTCbKx1"
      },
      "execution_count": null,
      "outputs": []
    },
    {
      "cell_type": "code",
      "source": [
        "fea_names = ['native-country', 'workclass', 'occupation', 'education','hours-per-week','age']\n",
        "dot_data = tree.export_graphviz(model, out_file=None, feature_names=fea_names, filled=True, rounded=True)\n",
        "\n",
        "graph = pp.graph_from_dot_data(dot_data)\n",
        "graph.write_png('decisiontree.png')"
      ],
      "metadata": {
        "colab": {
          "base_uri": "https://localhost:8080/"
        },
        "id": "Xjj8VJN-bQhx",
        "outputId": "b653a715-b6cf-4f5c-f925-ce18ada3a8dc"
      },
      "execution_count": null,
      "outputs": [
        {
          "output_type": "execute_result",
          "data": {
            "text/plain": [
              "True"
            ]
          },
          "metadata": {},
          "execution_count": 38
        }
      ]
    },
    {
      "cell_type": "code",
      "source": [
        "graph = graphviz.Source(dot_data)\n",
        "graph"
      ],
      "metadata": {
        "colab": {
          "base_uri": "https://localhost:8080/",
          "height": 816
        },
        "id": "X58ubgfvbaHu",
        "outputId": "03c68461-4096-4f87-cdae-0343dec2095a"
      },
      "execution_count": null,
      "outputs": [
        {
          "output_type": "execute_result",
          "data": {
            "image/svg+xml": "<?xml version=\"1.0\" encoding=\"UTF-8\" standalone=\"no\"?>\n<!DOCTYPE svg PUBLIC \"-//W3C//DTD SVG 1.1//EN\"\n \"http://www.w3.org/Graphics/SVG/1.1/DTD/svg11.dtd\">\n<!-- Generated by graphviz version 2.43.0 (0)\n -->\n<!-- Title: Tree Pages: 1 -->\n<svg width=\"4124pt\" height=\"581pt\"\n viewBox=\"0.00 0.00 4123.50 581.00\" xmlns=\"http://www.w3.org/2000/svg\" xmlns:xlink=\"http://www.w3.org/1999/xlink\">\n<g id=\"graph0\" class=\"graph\" transform=\"scale(1 1) rotate(0) translate(4 577)\">\n<title>Tree</title>\n<polygon fill=\"white\" stroke=\"transparent\" points=\"-4,4 -4,-577 4119.5,-577 4119.5,4 -4,4\"/>\n<!-- 0 -->\n<g id=\"node1\" class=\"node\">\n<title>0</title>\n<path fill=\"#eda978\" stroke=\"black\" d=\"M1788,-573C1788,-573 1665,-573 1665,-573 1659,-573 1653,-567 1653,-561 1653,-561 1653,-517 1653,-517 1653,-511 1659,-505 1665,-505 1665,-505 1788,-505 1788,-505 1794,-505 1800,-511 1800,-517 1800,-517 1800,-561 1800,-561 1800,-567 1794,-573 1788,-573\"/>\n<text text-anchor=\"middle\" x=\"1726.5\" y=\"-557.8\" font-family=\"Helvetica,sans-Serif\" font-size=\"14.00\">age &lt;= 27.5</text>\n<text text-anchor=\"middle\" x=\"1726.5\" y=\"-542.8\" font-family=\"Helvetica,sans-Serif\" font-size=\"14.00\">entropy = 0.796</text>\n<text text-anchor=\"middle\" x=\"1726.5\" y=\"-527.8\" font-family=\"Helvetica,sans-Serif\" font-size=\"14.00\">samples = 26048</text>\n<text text-anchor=\"middle\" x=\"1726.5\" y=\"-512.8\" font-family=\"Helvetica,sans-Serif\" font-size=\"14.00\">value = [19778, 6270]</text>\n</g>\n<!-- 1 -->\n<g id=\"node2\" class=\"node\">\n<title>1</title>\n<path fill=\"#e68540\" stroke=\"black\" d=\"M1416.5,-469C1416.5,-469 1308.5,-469 1308.5,-469 1302.5,-469 1296.5,-463 1296.5,-457 1296.5,-457 1296.5,-413 1296.5,-413 1296.5,-407 1302.5,-401 1308.5,-401 1308.5,-401 1416.5,-401 1416.5,-401 1422.5,-401 1428.5,-407 1428.5,-413 1428.5,-413 1428.5,-457 1428.5,-457 1428.5,-463 1422.5,-469 1416.5,-469\"/>\n<text text-anchor=\"middle\" x=\"1362.5\" y=\"-453.8\" font-family=\"Helvetica,sans-Serif\" font-size=\"14.00\">age &lt;= 23.5</text>\n<text text-anchor=\"middle\" x=\"1362.5\" y=\"-438.8\" font-family=\"Helvetica,sans-Serif\" font-size=\"14.00\">entropy = 0.204</text>\n<text text-anchor=\"middle\" x=\"1362.5\" y=\"-423.8\" font-family=\"Helvetica,sans-Serif\" font-size=\"14.00\">samples = 6405</text>\n<text text-anchor=\"middle\" x=\"1362.5\" y=\"-408.8\" font-family=\"Helvetica,sans-Serif\" font-size=\"14.00\">value = [6200, 205]</text>\n</g>\n<!-- 0&#45;&gt;1 -->\n<g id=\"edge1\" class=\"edge\">\n<title>0&#45;&gt;1</title>\n<path fill=\"none\" stroke=\"black\" d=\"M1652.84,-517.36C1590.53,-499.9 1501.58,-474.97 1438.59,-457.32\"/>\n<polygon fill=\"black\" stroke=\"black\" points=\"1439.28,-453.88 1428.71,-454.55 1437.39,-460.62 1439.28,-453.88\"/>\n<text text-anchor=\"middle\" x=\"1440.96\" y=\"-472.64\" font-family=\"Helvetica,sans-Serif\" font-size=\"14.00\">True</text>\n</g>\n<!-- 30 -->\n<g id=\"node31\" class=\"node\">\n<title>30</title>\n<path fill=\"#f1b991\" stroke=\"black\" d=\"M2469,-469C2469,-469 2332,-469 2332,-469 2326,-469 2320,-463 2320,-457 2320,-457 2320,-413 2320,-413 2320,-407 2326,-401 2332,-401 2332,-401 2469,-401 2469,-401 2475,-401 2481,-407 2481,-413 2481,-413 2481,-457 2481,-457 2481,-463 2475,-469 2469,-469\"/>\n<text text-anchor=\"middle\" x=\"2400.5\" y=\"-453.8\" font-family=\"Helvetica,sans-Serif\" font-size=\"14.00\">hours&#45;per&#45;week &lt;= 43.5</text>\n<text text-anchor=\"middle\" x=\"2400.5\" y=\"-438.8\" font-family=\"Helvetica,sans-Serif\" font-size=\"14.00\">entropy = 0.892</text>\n<text text-anchor=\"middle\" x=\"2400.5\" y=\"-423.8\" font-family=\"Helvetica,sans-Serif\" font-size=\"14.00\">samples = 19643</text>\n<text text-anchor=\"middle\" x=\"2400.5\" y=\"-408.8\" font-family=\"Helvetica,sans-Serif\" font-size=\"14.00\">value = [13578, 6065]</text>\n</g>\n<!-- 0&#45;&gt;30 -->\n<g id=\"edge30\" class=\"edge\">\n<title>0&#45;&gt;30</title>\n<path fill=\"none\" stroke=\"black\" d=\"M1800.24,-526.84C1924.53,-508.03 2175.36,-470.07 2310.08,-449.68\"/>\n<polygon fill=\"black\" stroke=\"black\" points=\"2310.6,-453.14 2319.97,-448.19 2309.56,-446.22 2310.6,-453.14\"/>\n<text text-anchor=\"middle\" x=\"2305.13\" y=\"-464.61\" font-family=\"Helvetica,sans-Serif\" font-size=\"14.00\">False</text>\n</g>\n<!-- 2 -->\n<g id=\"node3\" class=\"node\">\n<title>2</title>\n<path fill=\"#e5823a\" stroke=\"black\" d=\"M608,-365C608,-365 471,-365 471,-365 465,-365 459,-359 459,-353 459,-353 459,-309 459,-309 459,-303 465,-297 471,-297 471,-297 608,-297 608,-297 614,-297 620,-303 620,-309 620,-309 620,-353 620,-353 620,-359 614,-365 608,-365\"/>\n<text text-anchor=\"middle\" x=\"539.5\" y=\"-349.8\" font-family=\"Helvetica,sans-Serif\" font-size=\"14.00\">hours&#45;per&#45;week &lt;= 39.5</text>\n<text text-anchor=\"middle\" x=\"539.5\" y=\"-334.8\" font-family=\"Helvetica,sans-Serif\" font-size=\"14.00\">entropy = 0.059</text>\n<text text-anchor=\"middle\" x=\"539.5\" y=\"-319.8\" font-family=\"Helvetica,sans-Serif\" font-size=\"14.00\">samples = 3808</text>\n<text text-anchor=\"middle\" x=\"539.5\" y=\"-304.8\" font-family=\"Helvetica,sans-Serif\" font-size=\"14.00\">value = [3782, 26]</text>\n</g>\n<!-- 1&#45;&gt;2 -->\n<g id=\"edge2\" class=\"edge\">\n<title>1&#45;&gt;2</title>\n<path fill=\"none\" stroke=\"black\" d=\"M1296.2,-425.78C1149.43,-407.59 796.92,-363.9 630.03,-343.22\"/>\n<polygon fill=\"black\" stroke=\"black\" points=\"630.39,-339.74 620.03,-341.98 629.53,-346.68 630.39,-339.74\"/>\n</g>\n<!-- 15 -->\n<g id=\"node16\" class=\"node\">\n<title>15</title>\n<path fill=\"#e78a48\" stroke=\"black\" d=\"M1431,-365C1431,-365 1294,-365 1294,-365 1288,-365 1282,-359 1282,-353 1282,-353 1282,-309 1282,-309 1282,-303 1288,-297 1294,-297 1294,-297 1431,-297 1431,-297 1437,-297 1443,-303 1443,-309 1443,-309 1443,-353 1443,-353 1443,-359 1437,-365 1431,-365\"/>\n<text text-anchor=\"middle\" x=\"1362.5\" y=\"-349.8\" font-family=\"Helvetica,sans-Serif\" font-size=\"14.00\">hours&#45;per&#45;week &lt;= 41.5</text>\n<text text-anchor=\"middle\" x=\"1362.5\" y=\"-334.8\" font-family=\"Helvetica,sans-Serif\" font-size=\"14.00\">entropy = 0.362</text>\n<text text-anchor=\"middle\" x=\"1362.5\" y=\"-319.8\" font-family=\"Helvetica,sans-Serif\" font-size=\"14.00\">samples = 2597</text>\n<text text-anchor=\"middle\" x=\"1362.5\" y=\"-304.8\" font-family=\"Helvetica,sans-Serif\" font-size=\"14.00\">value = [2418, 179]</text>\n</g>\n<!-- 1&#45;&gt;15 -->\n<g id=\"edge15\" class=\"edge\">\n<title>1&#45;&gt;15</title>\n<path fill=\"none\" stroke=\"black\" d=\"M1362.5,-400.88C1362.5,-392.78 1362.5,-383.98 1362.5,-375.47\"/>\n<polygon fill=\"black\" stroke=\"black\" points=\"1366,-375.3 1362.5,-365.3 1359,-375.3 1366,-375.3\"/>\n</g>\n<!-- 3 -->\n<g id=\"node4\" class=\"node\">\n<title>3</title>\n<path fill=\"#e58139\" stroke=\"black\" d=\"M284,-261C284,-261 147,-261 147,-261 141,-261 135,-255 135,-249 135,-249 135,-205 135,-205 135,-199 141,-193 147,-193 147,-193 284,-193 284,-193 290,-193 296,-199 296,-205 296,-205 296,-249 296,-249 296,-255 290,-261 284,-261\"/>\n<text text-anchor=\"middle\" x=\"215.5\" y=\"-245.8\" font-family=\"Helvetica,sans-Serif\" font-size=\"14.00\">hours&#45;per&#45;week &lt;= 31.0</text>\n<text text-anchor=\"middle\" x=\"215.5\" y=\"-230.8\" font-family=\"Helvetica,sans-Serif\" font-size=\"14.00\">entropy = 0.006</text>\n<text text-anchor=\"middle\" x=\"215.5\" y=\"-215.8\" font-family=\"Helvetica,sans-Serif\" font-size=\"14.00\">samples = 2107</text>\n<text text-anchor=\"middle\" x=\"215.5\" y=\"-200.8\" font-family=\"Helvetica,sans-Serif\" font-size=\"14.00\">value = [2106, 1]</text>\n</g>\n<!-- 2&#45;&gt;3 -->\n<g id=\"edge3\" class=\"edge\">\n<title>2&#45;&gt;3</title>\n<path fill=\"none\" stroke=\"black\" d=\"M458.99,-304.66C412.53,-290.03 353.97,-271.59 305.93,-256.47\"/>\n<polygon fill=\"black\" stroke=\"black\" points=\"306.74,-253.06 296.15,-253.39 304.64,-259.73 306.74,-253.06\"/>\n</g>\n<!-- 8 -->\n<g id=\"node9\" class=\"node\">\n<title>8</title>\n<path fill=\"#e5833c\" stroke=\"black\" d=\"M590,-261C590,-261 489,-261 489,-261 483,-261 477,-255 477,-249 477,-249 477,-205 477,-205 477,-199 483,-193 489,-193 489,-193 590,-193 590,-193 596,-193 602,-199 602,-205 602,-205 602,-249 602,-249 602,-255 596,-261 590,-261\"/>\n<text text-anchor=\"middle\" x=\"539.5\" y=\"-245.8\" font-family=\"Helvetica,sans-Serif\" font-size=\"14.00\">age &lt;= 21.5</text>\n<text text-anchor=\"middle\" x=\"539.5\" y=\"-230.8\" font-family=\"Helvetica,sans-Serif\" font-size=\"14.00\">entropy = 0.111</text>\n<text text-anchor=\"middle\" x=\"539.5\" y=\"-215.8\" font-family=\"Helvetica,sans-Serif\" font-size=\"14.00\">samples = 1701</text>\n<text text-anchor=\"middle\" x=\"539.5\" y=\"-200.8\" font-family=\"Helvetica,sans-Serif\" font-size=\"14.00\">value = [1676, 25]</text>\n</g>\n<!-- 2&#45;&gt;8 -->\n<g id=\"edge8\" class=\"edge\">\n<title>2&#45;&gt;8</title>\n<path fill=\"none\" stroke=\"black\" d=\"M539.5,-296.88C539.5,-288.78 539.5,-279.98 539.5,-271.47\"/>\n<polygon fill=\"black\" stroke=\"black\" points=\"543,-271.3 539.5,-261.3 536,-271.3 543,-271.3\"/>\n</g>\n<!-- 4 -->\n<g id=\"node5\" class=\"node\">\n<title>4</title>\n<path fill=\"#e58139\" stroke=\"black\" d=\"M105,-149.5C105,-149.5 12,-149.5 12,-149.5 6,-149.5 0,-143.5 0,-137.5 0,-137.5 0,-108.5 0,-108.5 0,-102.5 6,-96.5 12,-96.5 12,-96.5 105,-96.5 105,-96.5 111,-96.5 117,-102.5 117,-108.5 117,-108.5 117,-137.5 117,-137.5 117,-143.5 111,-149.5 105,-149.5\"/>\n<text text-anchor=\"middle\" x=\"58.5\" y=\"-134.3\" font-family=\"Helvetica,sans-Serif\" font-size=\"14.00\">entropy = 0.0</text>\n<text text-anchor=\"middle\" x=\"58.5\" y=\"-119.3\" font-family=\"Helvetica,sans-Serif\" font-size=\"14.00\">samples = 1741</text>\n<text text-anchor=\"middle\" x=\"58.5\" y=\"-104.3\" font-family=\"Helvetica,sans-Serif\" font-size=\"14.00\">value = [1741, 0]</text>\n</g>\n<!-- 3&#45;&gt;4 -->\n<g id=\"edge4\" class=\"edge\">\n<title>3&#45;&gt;4</title>\n<path fill=\"none\" stroke=\"black\" d=\"M164.53,-192.88C145.82,-180.73 124.73,-167.03 106.31,-155.06\"/>\n<polygon fill=\"black\" stroke=\"black\" points=\"108.07,-152.03 97.78,-149.52 104.26,-157.9 108.07,-152.03\"/>\n</g>\n<!-- 5 -->\n<g id=\"node6\" class=\"node\">\n<title>5</title>\n<path fill=\"#e5813a\" stroke=\"black\" d=\"M284,-157C284,-157 147,-157 147,-157 141,-157 135,-151 135,-145 135,-145 135,-101 135,-101 135,-95 141,-89 147,-89 147,-89 284,-89 284,-89 290,-89 296,-95 296,-101 296,-101 296,-145 296,-145 296,-151 290,-157 284,-157\"/>\n<text text-anchor=\"middle\" x=\"215.5\" y=\"-141.8\" font-family=\"Helvetica,sans-Serif\" font-size=\"14.00\">hours&#45;per&#45;week &lt;= 32.5</text>\n<text text-anchor=\"middle\" x=\"215.5\" y=\"-126.8\" font-family=\"Helvetica,sans-Serif\" font-size=\"14.00\">entropy = 0.027</text>\n<text text-anchor=\"middle\" x=\"215.5\" y=\"-111.8\" font-family=\"Helvetica,sans-Serif\" font-size=\"14.00\">samples = 366</text>\n<text text-anchor=\"middle\" x=\"215.5\" y=\"-96.8\" font-family=\"Helvetica,sans-Serif\" font-size=\"14.00\">value = [365, 1]</text>\n</g>\n<!-- 3&#45;&gt;5 -->\n<g id=\"edge5\" class=\"edge\">\n<title>3&#45;&gt;5</title>\n<path fill=\"none\" stroke=\"black\" d=\"M215.5,-192.88C215.5,-184.78 215.5,-175.98 215.5,-167.47\"/>\n<polygon fill=\"black\" stroke=\"black\" points=\"219,-167.3 215.5,-157.3 212,-167.3 219,-167.3\"/>\n</g>\n<!-- 6 -->\n<g id=\"node7\" class=\"node\">\n<title>6</title>\n<path fill=\"#e6843e\" stroke=\"black\" d=\"M130,-53C130,-53 43,-53 43,-53 37,-53 31,-47 31,-41 31,-41 31,-12 31,-12 31,-6 37,0 43,0 43,0 130,0 130,0 136,0 142,-6 142,-12 142,-12 142,-41 142,-41 142,-47 136,-53 130,-53\"/>\n<text text-anchor=\"middle\" x=\"86.5\" y=\"-37.8\" font-family=\"Helvetica,sans-Serif\" font-size=\"14.00\">entropy = 0.172</text>\n<text text-anchor=\"middle\" x=\"86.5\" y=\"-22.8\" font-family=\"Helvetica,sans-Serif\" font-size=\"14.00\">samples = 39</text>\n<text text-anchor=\"middle\" x=\"86.5\" y=\"-7.8\" font-family=\"Helvetica,sans-Serif\" font-size=\"14.00\">value = [38, 1]</text>\n</g>\n<!-- 5&#45;&gt;6 -->\n<g id=\"edge6\" class=\"edge\">\n<title>5&#45;&gt;6</title>\n<path fill=\"none\" stroke=\"black\" d=\"M170.38,-88.95C157.27,-79.34 142.98,-68.87 129.97,-59.34\"/>\n<polygon fill=\"black\" stroke=\"black\" points=\"131.77,-56.32 121.63,-53.24 127.63,-61.97 131.77,-56.32\"/>\n</g>\n<!-- 7 -->\n<g id=\"node8\" class=\"node\">\n<title>7</title>\n<path fill=\"#e58139\" stroke=\"black\" d=\"M258.5,-53C258.5,-53 172.5,-53 172.5,-53 166.5,-53 160.5,-47 160.5,-41 160.5,-41 160.5,-12 160.5,-12 160.5,-6 166.5,0 172.5,0 172.5,0 258.5,0 258.5,0 264.5,0 270.5,-6 270.5,-12 270.5,-12 270.5,-41 270.5,-41 270.5,-47 264.5,-53 258.5,-53\"/>\n<text text-anchor=\"middle\" x=\"215.5\" y=\"-37.8\" font-family=\"Helvetica,sans-Serif\" font-size=\"14.00\">entropy = 0.0</text>\n<text text-anchor=\"middle\" x=\"215.5\" y=\"-22.8\" font-family=\"Helvetica,sans-Serif\" font-size=\"14.00\">samples = 327</text>\n<text text-anchor=\"middle\" x=\"215.5\" y=\"-7.8\" font-family=\"Helvetica,sans-Serif\" font-size=\"14.00\">value = [327, 0]</text>\n</g>\n<!-- 5&#45;&gt;7 -->\n<g id=\"edge7\" class=\"edge\">\n<title>5&#45;&gt;7</title>\n<path fill=\"none\" stroke=\"black\" d=\"M215.5,-88.95C215.5,-80.72 215.5,-71.85 215.5,-63.48\"/>\n<polygon fill=\"black\" stroke=\"black\" points=\"219,-63.24 215.5,-53.24 212,-63.24 219,-63.24\"/>\n</g>\n<!-- 9 -->\n<g id=\"node10\" class=\"node\">\n<title>9</title>\n<path fill=\"#e5823a\" stroke=\"black\" d=\"M507.5,-157C507.5,-157 413.5,-157 413.5,-157 407.5,-157 401.5,-151 401.5,-145 401.5,-145 401.5,-101 401.5,-101 401.5,-95 407.5,-89 413.5,-89 413.5,-89 507.5,-89 507.5,-89 513.5,-89 519.5,-95 519.5,-101 519.5,-101 519.5,-145 519.5,-145 519.5,-151 513.5,-157 507.5,-157\"/>\n<text text-anchor=\"middle\" x=\"460.5\" y=\"-141.8\" font-family=\"Helvetica,sans-Serif\" font-size=\"14.00\">education &lt;= 5.5</text>\n<text text-anchor=\"middle\" x=\"460.5\" y=\"-126.8\" font-family=\"Helvetica,sans-Serif\" font-size=\"14.00\">entropy = 0.049</text>\n<text text-anchor=\"middle\" x=\"460.5\" y=\"-111.8\" font-family=\"Helvetica,sans-Serif\" font-size=\"14.00\">samples = 916</text>\n<text text-anchor=\"middle\" x=\"460.5\" y=\"-96.8\" font-family=\"Helvetica,sans-Serif\" font-size=\"14.00\">value = [911, 5]</text>\n</g>\n<!-- 8&#45;&gt;9 -->\n<g id=\"edge9\" class=\"edge\">\n<title>8&#45;&gt;9</title>\n<path fill=\"none\" stroke=\"black\" d=\"M513.85,-192.88C507.02,-184.07 499.56,-174.43 492.44,-165.24\"/>\n<polygon fill=\"black\" stroke=\"black\" points=\"495.18,-163.06 486.29,-157.3 489.65,-167.35 495.18,-163.06\"/>\n</g>\n<!-- 12 -->\n<g id=\"node13\" class=\"node\">\n<title>12</title>\n<path fill=\"#e6843e\" stroke=\"black\" d=\"M687,-157C687,-157 550,-157 550,-157 544,-157 538,-151 538,-145 538,-145 538,-101 538,-101 538,-95 544,-89 550,-89 550,-89 687,-89 687,-89 693,-89 699,-95 699,-101 699,-101 699,-145 699,-145 699,-151 693,-157 687,-157\"/>\n<text text-anchor=\"middle\" x=\"618.5\" y=\"-141.8\" font-family=\"Helvetica,sans-Serif\" font-size=\"14.00\">hours&#45;per&#45;week &lt;= 47.5</text>\n<text text-anchor=\"middle\" x=\"618.5\" y=\"-126.8\" font-family=\"Helvetica,sans-Serif\" font-size=\"14.00\">entropy = 0.171</text>\n<text text-anchor=\"middle\" x=\"618.5\" y=\"-111.8\" font-family=\"Helvetica,sans-Serif\" font-size=\"14.00\">samples = 785</text>\n<text text-anchor=\"middle\" x=\"618.5\" y=\"-96.8\" font-family=\"Helvetica,sans-Serif\" font-size=\"14.00\">value = [765, 20]</text>\n</g>\n<!-- 8&#45;&gt;12 -->\n<g id=\"edge12\" class=\"edge\">\n<title>8&#45;&gt;12</title>\n<path fill=\"none\" stroke=\"black\" d=\"M565.15,-192.88C571.98,-184.07 579.44,-174.43 586.56,-165.24\"/>\n<polygon fill=\"black\" stroke=\"black\" points=\"589.35,-167.35 592.71,-157.3 583.82,-163.06 589.35,-167.35\"/>\n</g>\n<!-- 10 -->\n<g id=\"node11\" class=\"node\">\n<title>10</title>\n<path fill=\"#e5813a\" stroke=\"black\" d=\"M388,-53C388,-53 301,-53 301,-53 295,-53 289,-47 289,-41 289,-41 289,-12 289,-12 289,-6 295,0 301,0 301,0 388,0 388,0 394,0 400,-6 400,-12 400,-12 400,-41 400,-41 400,-47 394,-53 388,-53\"/>\n<text text-anchor=\"middle\" x=\"344.5\" y=\"-37.8\" font-family=\"Helvetica,sans-Serif\" font-size=\"14.00\">entropy = 0.026</text>\n<text text-anchor=\"middle\" x=\"344.5\" y=\"-22.8\" font-family=\"Helvetica,sans-Serif\" font-size=\"14.00\">samples = 782</text>\n<text text-anchor=\"middle\" x=\"344.5\" y=\"-7.8\" font-family=\"Helvetica,sans-Serif\" font-size=\"14.00\">value = [780, 2]</text>\n</g>\n<!-- 9&#45;&gt;10 -->\n<g id=\"edge10\" class=\"edge\">\n<title>9&#45;&gt;10</title>\n<path fill=\"none\" stroke=\"black\" d=\"M419.93,-88.95C408.25,-79.43 395.53,-69.07 383.92,-59.62\"/>\n<polygon fill=\"black\" stroke=\"black\" points=\"386.06,-56.84 376.09,-53.24 381.63,-62.27 386.06,-56.84\"/>\n</g>\n<!-- 11 -->\n<g id=\"node12\" class=\"node\">\n<title>11</title>\n<path fill=\"#e6843e\" stroke=\"black\" d=\"M517,-53C517,-53 430,-53 430,-53 424,-53 418,-47 418,-41 418,-41 418,-12 418,-12 418,-6 424,0 430,0 430,0 517,0 517,0 523,0 529,-6 529,-12 529,-12 529,-41 529,-41 529,-47 523,-53 517,-53\"/>\n<text text-anchor=\"middle\" x=\"473.5\" y=\"-37.8\" font-family=\"Helvetica,sans-Serif\" font-size=\"14.00\">entropy = 0.155</text>\n<text text-anchor=\"middle\" x=\"473.5\" y=\"-22.8\" font-family=\"Helvetica,sans-Serif\" font-size=\"14.00\">samples = 134</text>\n<text text-anchor=\"middle\" x=\"473.5\" y=\"-7.8\" font-family=\"Helvetica,sans-Serif\" font-size=\"14.00\">value = [131, 3]</text>\n</g>\n<!-- 9&#45;&gt;11 -->\n<g id=\"edge11\" class=\"edge\">\n<title>9&#45;&gt;11</title>\n<path fill=\"none\" stroke=\"black\" d=\"M465.05,-88.95C466.19,-80.62 467.43,-71.65 468.59,-63.2\"/>\n<polygon fill=\"black\" stroke=\"black\" points=\"472.06,-63.62 469.96,-53.24 465.13,-62.67 472.06,-63.62\"/>\n</g>\n<!-- 13 -->\n<g id=\"node14\" class=\"node\">\n<title>13</title>\n<path fill=\"#e5833c\" stroke=\"black\" d=\"M652,-53C652,-53 559,-53 559,-53 553,-53 547,-47 547,-41 547,-41 547,-12 547,-12 547,-6 553,0 559,0 559,0 652,0 652,0 658,0 664,-6 664,-12 664,-12 664,-41 664,-41 664,-47 658,-53 652,-53\"/>\n<text text-anchor=\"middle\" x=\"605.5\" y=\"-37.8\" font-family=\"Helvetica,sans-Serif\" font-size=\"14.00\">entropy = 0.123</text>\n<text text-anchor=\"middle\" x=\"605.5\" y=\"-22.8\" font-family=\"Helvetica,sans-Serif\" font-size=\"14.00\">samples = 654</text>\n<text text-anchor=\"middle\" x=\"605.5\" y=\"-7.8\" font-family=\"Helvetica,sans-Serif\" font-size=\"14.00\">value = [643, 11]</text>\n</g>\n<!-- 12&#45;&gt;13 -->\n<g id=\"edge13\" class=\"edge\">\n<title>12&#45;&gt;13</title>\n<path fill=\"none\" stroke=\"black\" d=\"M613.95,-88.95C612.81,-80.62 611.57,-71.65 610.41,-63.2\"/>\n<polygon fill=\"black\" stroke=\"black\" points=\"613.87,-62.67 609.04,-53.24 606.94,-63.62 613.87,-62.67\"/>\n</g>\n<!-- 14 -->\n<g id=\"node15\" class=\"node\">\n<title>14</title>\n<path fill=\"#e78a48\" stroke=\"black\" d=\"M781,-53C781,-53 694,-53 694,-53 688,-53 682,-47 682,-41 682,-41 682,-12 682,-12 682,-6 688,0 694,0 694,0 781,0 781,0 787,0 793,-6 793,-12 793,-12 793,-41 793,-41 793,-47 787,-53 781,-53\"/>\n<text text-anchor=\"middle\" x=\"737.5\" y=\"-37.8\" font-family=\"Helvetica,sans-Serif\" font-size=\"14.00\">entropy = 0.361</text>\n<text text-anchor=\"middle\" x=\"737.5\" y=\"-22.8\" font-family=\"Helvetica,sans-Serif\" font-size=\"14.00\">samples = 131</text>\n<text text-anchor=\"middle\" x=\"737.5\" y=\"-7.8\" font-family=\"Helvetica,sans-Serif\" font-size=\"14.00\">value = [122, 9]</text>\n</g>\n<!-- 12&#45;&gt;14 -->\n<g id=\"edge14\" class=\"edge\">\n<title>12&#45;&gt;14</title>\n<path fill=\"none\" stroke=\"black\" d=\"M660.12,-88.95C672.1,-79.43 685.15,-69.07 697.06,-59.62\"/>\n<polygon fill=\"black\" stroke=\"black\" points=\"699.44,-62.2 705.09,-53.24 695.08,-56.71 699.44,-62.2\"/>\n</g>\n<!-- 16 -->\n<g id=\"node17\" class=\"node\">\n<title>16</title>\n<path fill=\"#e68743\" stroke=\"black\" d=\"M1278,-261C1278,-261 1141,-261 1141,-261 1135,-261 1129,-255 1129,-249 1129,-249 1129,-205 1129,-205 1129,-199 1135,-193 1141,-193 1141,-193 1278,-193 1278,-193 1284,-193 1290,-199 1290,-205 1290,-205 1290,-249 1290,-249 1290,-255 1284,-261 1278,-261\"/>\n<text text-anchor=\"middle\" x=\"1209.5\" y=\"-245.8\" font-family=\"Helvetica,sans-Serif\" font-size=\"14.00\">hours&#45;per&#45;week &lt;= 39.5</text>\n<text text-anchor=\"middle\" x=\"1209.5\" y=\"-230.8\" font-family=\"Helvetica,sans-Serif\" font-size=\"14.00\">entropy = 0.271</text>\n<text text-anchor=\"middle\" x=\"1209.5\" y=\"-215.8\" font-family=\"Helvetica,sans-Serif\" font-size=\"14.00\">samples = 1943</text>\n<text text-anchor=\"middle\" x=\"1209.5\" y=\"-200.8\" font-family=\"Helvetica,sans-Serif\" font-size=\"14.00\">value = [1853, 90]</text>\n</g>\n<!-- 15&#45;&gt;16 -->\n<g id=\"edge16\" class=\"edge\">\n<title>15&#45;&gt;16</title>\n<path fill=\"none\" stroke=\"black\" d=\"M1312.83,-296.88C1298.46,-287.3 1282.64,-276.76 1267.8,-266.86\"/>\n<polygon fill=\"black\" stroke=\"black\" points=\"1269.45,-263.76 1259.19,-261.12 1265.57,-269.58 1269.45,-263.76\"/>\n</g>\n<!-- 23 -->\n<g id=\"node24\" class=\"node\">\n<title>23</title>\n<path fill=\"#e99558\" stroke=\"black\" d=\"M1509.5,-261C1509.5,-261 1415.5,-261 1415.5,-261 1409.5,-261 1403.5,-255 1403.5,-249 1403.5,-249 1403.5,-205 1403.5,-205 1403.5,-199 1409.5,-193 1415.5,-193 1415.5,-193 1509.5,-193 1509.5,-193 1515.5,-193 1521.5,-199 1521.5,-205 1521.5,-205 1521.5,-249 1521.5,-249 1521.5,-255 1515.5,-261 1509.5,-261\"/>\n<text text-anchor=\"middle\" x=\"1462.5\" y=\"-245.8\" font-family=\"Helvetica,sans-Serif\" font-size=\"14.00\">education &lt;= 0.5</text>\n<text text-anchor=\"middle\" x=\"1462.5\" y=\"-230.8\" font-family=\"Helvetica,sans-Serif\" font-size=\"14.00\">entropy = 0.574</text>\n<text text-anchor=\"middle\" x=\"1462.5\" y=\"-215.8\" font-family=\"Helvetica,sans-Serif\" font-size=\"14.00\">samples = 654</text>\n<text text-anchor=\"middle\" x=\"1462.5\" y=\"-200.8\" font-family=\"Helvetica,sans-Serif\" font-size=\"14.00\">value = [565, 89]</text>\n</g>\n<!-- 15&#45;&gt;23 -->\n<g id=\"edge23\" class=\"edge\">\n<title>15&#45;&gt;23</title>\n<path fill=\"none\" stroke=\"black\" d=\"M1394.97,-296.88C1403.79,-287.89 1413.44,-278.04 1422.62,-268.68\"/>\n<polygon fill=\"black\" stroke=\"black\" points=\"1425.35,-270.89 1429.85,-261.3 1420.35,-265.99 1425.35,-270.89\"/>\n</g>\n<!-- 17 -->\n<g id=\"node18\" class=\"node\">\n<title>17</title>\n<path fill=\"#e5833c\" stroke=\"black\" d=\"M1064,-157C1064,-157 927,-157 927,-157 921,-157 915,-151 915,-145 915,-145 915,-101 915,-101 915,-95 921,-89 927,-89 927,-89 1064,-89 1064,-89 1070,-89 1076,-95 1076,-101 1076,-101 1076,-145 1076,-145 1076,-151 1070,-157 1064,-157\"/>\n<text text-anchor=\"middle\" x=\"995.5\" y=\"-141.8\" font-family=\"Helvetica,sans-Serif\" font-size=\"14.00\">hours&#45;per&#45;week &lt;= 23.5</text>\n<text text-anchor=\"middle\" x=\"995.5\" y=\"-126.8\" font-family=\"Helvetica,sans-Serif\" font-size=\"14.00\">entropy = 0.117</text>\n<text text-anchor=\"middle\" x=\"995.5\" y=\"-111.8\" font-family=\"Helvetica,sans-Serif\" font-size=\"14.00\">samples = 569</text>\n<text text-anchor=\"middle\" x=\"995.5\" y=\"-96.8\" font-family=\"Helvetica,sans-Serif\" font-size=\"14.00\">value = [560, 9]</text>\n</g>\n<!-- 16&#45;&gt;17 -->\n<g id=\"edge17\" class=\"edge\">\n<title>16&#45;&gt;17</title>\n<path fill=\"none\" stroke=\"black\" d=\"M1140.02,-192.88C1118.98,-182.86 1095.73,-171.77 1074.14,-161.48\"/>\n<polygon fill=\"black\" stroke=\"black\" points=\"1075.53,-158.27 1065,-157.12 1072.52,-164.59 1075.53,-158.27\"/>\n</g>\n<!-- 20 -->\n<g id=\"node21\" class=\"node\">\n<title>20</title>\n<path fill=\"#e78945\" stroke=\"black\" d=\"M1260,-157C1260,-157 1159,-157 1159,-157 1153,-157 1147,-151 1147,-145 1147,-145 1147,-101 1147,-101 1147,-95 1153,-89 1159,-89 1159,-89 1260,-89 1260,-89 1266,-89 1272,-95 1272,-101 1272,-101 1272,-145 1272,-145 1272,-151 1266,-157 1260,-157\"/>\n<text text-anchor=\"middle\" x=\"1209.5\" y=\"-141.8\" font-family=\"Helvetica,sans-Serif\" font-size=\"14.00\">age &lt;= 25.5</text>\n<text text-anchor=\"middle\" x=\"1209.5\" y=\"-126.8\" font-family=\"Helvetica,sans-Serif\" font-size=\"14.00\">entropy = 0.323</text>\n<text text-anchor=\"middle\" x=\"1209.5\" y=\"-111.8\" font-family=\"Helvetica,sans-Serif\" font-size=\"14.00\">samples = 1374</text>\n<text text-anchor=\"middle\" x=\"1209.5\" y=\"-96.8\" font-family=\"Helvetica,sans-Serif\" font-size=\"14.00\">value = [1293, 81]</text>\n</g>\n<!-- 16&#45;&gt;20 -->\n<g id=\"edge20\" class=\"edge\">\n<title>16&#45;&gt;20</title>\n<path fill=\"none\" stroke=\"black\" d=\"M1209.5,-192.88C1209.5,-184.78 1209.5,-175.98 1209.5,-167.47\"/>\n<polygon fill=\"black\" stroke=\"black\" points=\"1213,-167.3 1209.5,-157.3 1206,-167.3 1213,-167.3\"/>\n</g>\n<!-- 18 -->\n<g id=\"node19\" class=\"node\">\n<title>18</title>\n<path fill=\"#e58139\" stroke=\"black\" d=\"M909.5,-53C909.5,-53 823.5,-53 823.5,-53 817.5,-53 811.5,-47 811.5,-41 811.5,-41 811.5,-12 811.5,-12 811.5,-6 817.5,0 823.5,0 823.5,0 909.5,0 909.5,0 915.5,0 921.5,-6 921.5,-12 921.5,-12 921.5,-41 921.5,-41 921.5,-47 915.5,-53 909.5,-53\"/>\n<text text-anchor=\"middle\" x=\"866.5\" y=\"-37.8\" font-family=\"Helvetica,sans-Serif\" font-size=\"14.00\">entropy = 0.0</text>\n<text text-anchor=\"middle\" x=\"866.5\" y=\"-22.8\" font-family=\"Helvetica,sans-Serif\" font-size=\"14.00\">samples = 170</text>\n<text text-anchor=\"middle\" x=\"866.5\" y=\"-7.8\" font-family=\"Helvetica,sans-Serif\" font-size=\"14.00\">value = [170, 0]</text>\n</g>\n<!-- 17&#45;&gt;18 -->\n<g id=\"edge18\" class=\"edge\">\n<title>17&#45;&gt;18</title>\n<path fill=\"none\" stroke=\"black\" d=\"M950.38,-88.95C937.27,-79.34 922.98,-68.87 909.97,-59.34\"/>\n<polygon fill=\"black\" stroke=\"black\" points=\"911.77,-56.32 901.63,-53.24 907.63,-61.97 911.77,-56.32\"/>\n</g>\n<!-- 19 -->\n<g id=\"node20\" class=\"node\">\n<title>19</title>\n<path fill=\"#e6843e\" stroke=\"black\" d=\"M1039,-53C1039,-53 952,-53 952,-53 946,-53 940,-47 940,-41 940,-41 940,-12 940,-12 940,-6 946,0 952,0 952,0 1039,0 1039,0 1045,0 1051,-6 1051,-12 1051,-12 1051,-41 1051,-41 1051,-47 1045,-53 1039,-53\"/>\n<text text-anchor=\"middle\" x=\"995.5\" y=\"-37.8\" font-family=\"Helvetica,sans-Serif\" font-size=\"14.00\">entropy = 0.156</text>\n<text text-anchor=\"middle\" x=\"995.5\" y=\"-22.8\" font-family=\"Helvetica,sans-Serif\" font-size=\"14.00\">samples = 399</text>\n<text text-anchor=\"middle\" x=\"995.5\" y=\"-7.8\" font-family=\"Helvetica,sans-Serif\" font-size=\"14.00\">value = [390, 9]</text>\n</g>\n<!-- 17&#45;&gt;19 -->\n<g id=\"edge19\" class=\"edge\">\n<title>17&#45;&gt;19</title>\n<path fill=\"none\" stroke=\"black\" d=\"M995.5,-88.95C995.5,-80.72 995.5,-71.85 995.5,-63.48\"/>\n<polygon fill=\"black\" stroke=\"black\" points=\"999,-63.24 995.5,-53.24 992,-63.24 999,-63.24\"/>\n</g>\n<!-- 21 -->\n<g id=\"node22\" class=\"node\">\n<title>21</title>\n<path fill=\"#e68540\" stroke=\"black\" d=\"M1174,-53C1174,-53 1081,-53 1081,-53 1075,-53 1069,-47 1069,-41 1069,-41 1069,-12 1069,-12 1069,-6 1075,0 1081,0 1081,0 1174,0 1174,0 1180,0 1186,-6 1186,-12 1186,-12 1186,-41 1186,-41 1186,-47 1180,-53 1174,-53\"/>\n<text text-anchor=\"middle\" x=\"1127.5\" y=\"-37.8\" font-family=\"Helvetica,sans-Serif\" font-size=\"14.00\">entropy = 0.215</text>\n<text text-anchor=\"middle\" x=\"1127.5\" y=\"-22.8\" font-family=\"Helvetica,sans-Serif\" font-size=\"14.00\">samples = 700</text>\n<text text-anchor=\"middle\" x=\"1127.5\" y=\"-7.8\" font-family=\"Helvetica,sans-Serif\" font-size=\"14.00\">value = [676, 24]</text>\n</g>\n<!-- 20&#45;&gt;21 -->\n<g id=\"edge21\" class=\"edge\">\n<title>20&#45;&gt;21</title>\n<path fill=\"none\" stroke=\"black\" d=\"M1180.82,-88.95C1172.96,-79.89 1164.44,-70.07 1156.56,-60.99\"/>\n<polygon fill=\"black\" stroke=\"black\" points=\"1159.03,-58.5 1149.83,-53.24 1153.74,-63.08 1159.03,-58.5\"/>\n</g>\n<!-- 22 -->\n<g id=\"node23\" class=\"node\">\n<title>22</title>\n<path fill=\"#e78d4b\" stroke=\"black\" d=\"M1309,-53C1309,-53 1216,-53 1216,-53 1210,-53 1204,-47 1204,-41 1204,-41 1204,-12 1204,-12 1204,-6 1210,0 1216,0 1216,0 1309,0 1309,0 1315,0 1321,-6 1321,-12 1321,-12 1321,-41 1321,-41 1321,-47 1315,-53 1309,-53\"/>\n<text text-anchor=\"middle\" x=\"1262.5\" y=\"-37.8\" font-family=\"Helvetica,sans-Serif\" font-size=\"14.00\">entropy = 0.418</text>\n<text text-anchor=\"middle\" x=\"1262.5\" y=\"-22.8\" font-family=\"Helvetica,sans-Serif\" font-size=\"14.00\">samples = 674</text>\n<text text-anchor=\"middle\" x=\"1262.5\" y=\"-7.8\" font-family=\"Helvetica,sans-Serif\" font-size=\"14.00\">value = [617, 57]</text>\n</g>\n<!-- 20&#45;&gt;22 -->\n<g id=\"edge22\" class=\"edge\">\n<title>20&#45;&gt;22</title>\n<path fill=\"none\" stroke=\"black\" d=\"M1228.04,-88.95C1232.91,-80.26 1238.18,-70.86 1243.1,-62.09\"/>\n<polygon fill=\"black\" stroke=\"black\" points=\"1246.23,-63.67 1248.07,-53.24 1240.12,-60.25 1246.23,-63.67\"/>\n</g>\n<!-- 24 -->\n<g id=\"node25\" class=\"node\">\n<title>24</title>\n<path fill=\"#eca36e\" stroke=\"black\" d=\"M1531,-157C1531,-157 1394,-157 1394,-157 1388,-157 1382,-151 1382,-145 1382,-145 1382,-101 1382,-101 1382,-95 1388,-89 1394,-89 1394,-89 1531,-89 1531,-89 1537,-89 1543,-95 1543,-101 1543,-101 1543,-145 1543,-145 1543,-151 1537,-157 1531,-157\"/>\n<text text-anchor=\"middle\" x=\"1462.5\" y=\"-141.8\" font-family=\"Helvetica,sans-Serif\" font-size=\"14.00\">hours&#45;per&#45;week &lt;= 46.5</text>\n<text text-anchor=\"middle\" x=\"1462.5\" y=\"-126.8\" font-family=\"Helvetica,sans-Serif\" font-size=\"14.00\">entropy = 0.742</text>\n<text text-anchor=\"middle\" x=\"1462.5\" y=\"-111.8\" font-family=\"Helvetica,sans-Serif\" font-size=\"14.00\">samples = 176</text>\n<text text-anchor=\"middle\" x=\"1462.5\" y=\"-96.8\" font-family=\"Helvetica,sans-Serif\" font-size=\"14.00\">value = [139, 37]</text>\n</g>\n<!-- 23&#45;&gt;24 -->\n<g id=\"edge24\" class=\"edge\">\n<title>23&#45;&gt;24</title>\n<path fill=\"none\" stroke=\"black\" d=\"M1462.5,-192.88C1462.5,-184.78 1462.5,-175.98 1462.5,-167.47\"/>\n<polygon fill=\"black\" stroke=\"black\" points=\"1466,-167.3 1462.5,-157.3 1459,-167.3 1466,-167.3\"/>\n</g>\n<!-- 27 -->\n<g id=\"node28\" class=\"node\">\n<title>27</title>\n<path fill=\"#e89051\" stroke=\"black\" d=\"M1712,-157C1712,-157 1611,-157 1611,-157 1605,-157 1599,-151 1599,-145 1599,-145 1599,-101 1599,-101 1599,-95 1605,-89 1611,-89 1611,-89 1712,-89 1712,-89 1718,-89 1724,-95 1724,-101 1724,-101 1724,-145 1724,-145 1724,-151 1718,-157 1712,-157\"/>\n<text text-anchor=\"middle\" x=\"1661.5\" y=\"-141.8\" font-family=\"Helvetica,sans-Serif\" font-size=\"14.00\">education &lt;= 10.5</text>\n<text text-anchor=\"middle\" x=\"1661.5\" y=\"-126.8\" font-family=\"Helvetica,sans-Serif\" font-size=\"14.00\">entropy = 0.496</text>\n<text text-anchor=\"middle\" x=\"1661.5\" y=\"-111.8\" font-family=\"Helvetica,sans-Serif\" font-size=\"14.00\">samples = 478</text>\n<text text-anchor=\"middle\" x=\"1661.5\" y=\"-96.8\" font-family=\"Helvetica,sans-Serif\" font-size=\"14.00\">value = [426, 52]</text>\n</g>\n<!-- 23&#45;&gt;27 -->\n<g id=\"edge27\" class=\"edge\">\n<title>23&#45;&gt;27</title>\n<path fill=\"none\" stroke=\"black\" d=\"M1521.67,-195.67C1543.02,-184.73 1567.34,-172.26 1589.66,-160.82\"/>\n<polygon fill=\"black\" stroke=\"black\" points=\"1591.45,-163.84 1598.75,-156.16 1588.26,-157.61 1591.45,-163.84\"/>\n</g>\n<!-- 25 -->\n<g id=\"node26\" class=\"node\">\n<title>25</title>\n<path fill=\"#f3c3a1\" stroke=\"black\" d=\"M1438,-53C1438,-53 1351,-53 1351,-53 1345,-53 1339,-47 1339,-41 1339,-41 1339,-12 1339,-12 1339,-6 1345,0 1351,0 1351,0 1438,0 1438,0 1444,0 1450,-6 1450,-12 1450,-12 1450,-41 1450,-41 1450,-47 1444,-53 1438,-53\"/>\n<text text-anchor=\"middle\" x=\"1394.5\" y=\"-37.8\" font-family=\"Helvetica,sans-Serif\" font-size=\"14.00\">entropy = 0.929</text>\n<text text-anchor=\"middle\" x=\"1394.5\" y=\"-22.8\" font-family=\"Helvetica,sans-Serif\" font-size=\"14.00\">samples = 58</text>\n<text text-anchor=\"middle\" x=\"1394.5\" y=\"-7.8\" font-family=\"Helvetica,sans-Serif\" font-size=\"14.00\">value = [38, 20]</text>\n</g>\n<!-- 24&#45;&gt;25 -->\n<g id=\"edge25\" class=\"edge\">\n<title>24&#45;&gt;25</title>\n<path fill=\"none\" stroke=\"black\" d=\"M1438.72,-88.95C1432.33,-80.07 1425.42,-70.46 1418.99,-61.54\"/>\n<polygon fill=\"black\" stroke=\"black\" points=\"1421.7,-59.31 1413.02,-53.24 1416.02,-63.4 1421.7,-59.31\"/>\n</g>\n<!-- 26 -->\n<g id=\"node27\" class=\"node\">\n<title>26</title>\n<path fill=\"#e9965a\" stroke=\"black\" d=\"M1573,-53C1573,-53 1480,-53 1480,-53 1474,-53 1468,-47 1468,-41 1468,-41 1468,-12 1468,-12 1468,-6 1474,0 1480,0 1480,0 1573,0 1573,0 1579,0 1585,-6 1585,-12 1585,-12 1585,-41 1585,-41 1585,-47 1579,-53 1573,-53\"/>\n<text text-anchor=\"middle\" x=\"1526.5\" y=\"-37.8\" font-family=\"Helvetica,sans-Serif\" font-size=\"14.00\">entropy = 0.595</text>\n<text text-anchor=\"middle\" x=\"1526.5\" y=\"-22.8\" font-family=\"Helvetica,sans-Serif\" font-size=\"14.00\">samples = 118</text>\n<text text-anchor=\"middle\" x=\"1526.5\" y=\"-7.8\" font-family=\"Helvetica,sans-Serif\" font-size=\"14.00\">value = [101, 17]</text>\n</g>\n<!-- 24&#45;&gt;26 -->\n<g id=\"edge26\" class=\"edge\">\n<title>24&#45;&gt;26</title>\n<path fill=\"none\" stroke=\"black\" d=\"M1484.88,-88.95C1490.89,-80.07 1497.4,-70.46 1503.45,-61.54\"/>\n<polygon fill=\"black\" stroke=\"black\" points=\"1506.36,-63.48 1509.07,-53.24 1500.56,-59.55 1506.36,-63.48\"/>\n</g>\n<!-- 28 -->\n<g id=\"node29\" class=\"node\">\n<title>28</title>\n<path fill=\"#e89153\" stroke=\"black\" d=\"M1708,-53C1708,-53 1615,-53 1615,-53 1609,-53 1603,-47 1603,-41 1603,-41 1603,-12 1603,-12 1603,-6 1609,0 1615,0 1615,0 1708,0 1708,0 1714,0 1720,-6 1720,-12 1720,-12 1720,-41 1720,-41 1720,-47 1714,-53 1708,-53\"/>\n<text text-anchor=\"middle\" x=\"1661.5\" y=\"-37.8\" font-family=\"Helvetica,sans-Serif\" font-size=\"14.00\">entropy = 0.516</text>\n<text text-anchor=\"middle\" x=\"1661.5\" y=\"-22.8\" font-family=\"Helvetica,sans-Serif\" font-size=\"14.00\">samples = 450</text>\n<text text-anchor=\"middle\" x=\"1661.5\" y=\"-7.8\" font-family=\"Helvetica,sans-Serif\" font-size=\"14.00\">value = [398, 52]</text>\n</g>\n<!-- 27&#45;&gt;28 -->\n<g id=\"edge28\" class=\"edge\">\n<title>27&#45;&gt;28</title>\n<path fill=\"none\" stroke=\"black\" d=\"M1661.5,-88.95C1661.5,-80.72 1661.5,-71.85 1661.5,-63.48\"/>\n<polygon fill=\"black\" stroke=\"black\" points=\"1665,-63.24 1661.5,-53.24 1658,-63.24 1665,-63.24\"/>\n</g>\n<!-- 29 -->\n<g id=\"node30\" class=\"node\">\n<title>29</title>\n<path fill=\"#e58139\" stroke=\"black\" d=\"M1828.5,-53C1828.5,-53 1750.5,-53 1750.5,-53 1744.5,-53 1738.5,-47 1738.5,-41 1738.5,-41 1738.5,-12 1738.5,-12 1738.5,-6 1744.5,0 1750.5,0 1750.5,0 1828.5,0 1828.5,0 1834.5,0 1840.5,-6 1840.5,-12 1840.5,-12 1840.5,-41 1840.5,-41 1840.5,-47 1834.5,-53 1828.5,-53\"/>\n<text text-anchor=\"middle\" x=\"1789.5\" y=\"-37.8\" font-family=\"Helvetica,sans-Serif\" font-size=\"14.00\">entropy = 0.0</text>\n<text text-anchor=\"middle\" x=\"1789.5\" y=\"-22.8\" font-family=\"Helvetica,sans-Serif\" font-size=\"14.00\">samples = 28</text>\n<text text-anchor=\"middle\" x=\"1789.5\" y=\"-7.8\" font-family=\"Helvetica,sans-Serif\" font-size=\"14.00\">value = [28, 0]</text>\n</g>\n<!-- 27&#45;&gt;29 -->\n<g id=\"edge29\" class=\"edge\">\n<title>27&#45;&gt;29</title>\n<path fill=\"none\" stroke=\"black\" d=\"M1706.27,-88.95C1719.28,-79.34 1733.46,-68.87 1746.37,-59.34\"/>\n<polygon fill=\"black\" stroke=\"black\" points=\"1748.67,-61.99 1754.64,-53.24 1744.52,-56.36 1748.67,-61.99\"/>\n</g>\n<!-- 31 -->\n<g id=\"node32\" class=\"node\">\n<title>31</title>\n<path fill=\"#eda977\" stroke=\"black\" d=\"M2462,-365C2462,-365 2339,-365 2339,-365 2333,-365 2327,-359 2327,-353 2327,-353 2327,-309 2327,-309 2327,-303 2333,-297 2339,-297 2339,-297 2462,-297 2462,-297 2468,-297 2474,-303 2474,-309 2474,-309 2474,-353 2474,-353 2474,-359 2468,-365 2462,-365\"/>\n<text text-anchor=\"middle\" x=\"2400.5\" y=\"-349.8\" font-family=\"Helvetica,sans-Serif\" font-size=\"14.00\">education &lt;= 0.5</text>\n<text text-anchor=\"middle\" x=\"2400.5\" y=\"-334.8\" font-family=\"Helvetica,sans-Serif\" font-size=\"14.00\">entropy = 0.793</text>\n<text text-anchor=\"middle\" x=\"2400.5\" y=\"-319.8\" font-family=\"Helvetica,sans-Serif\" font-size=\"14.00\">samples = 13341</text>\n<text text-anchor=\"middle\" x=\"2400.5\" y=\"-304.8\" font-family=\"Helvetica,sans-Serif\" font-size=\"14.00\">value = [10156, 3185]</text>\n</g>\n<!-- 30&#45;&gt;31 -->\n<g id=\"edge31\" class=\"edge\">\n<title>30&#45;&gt;31</title>\n<path fill=\"none\" stroke=\"black\" d=\"M2400.5,-400.88C2400.5,-392.78 2400.5,-383.98 2400.5,-375.47\"/>\n<polygon fill=\"black\" stroke=\"black\" points=\"2404,-375.3 2400.5,-365.3 2397,-375.3 2404,-375.3\"/>\n</g>\n<!-- 46 -->\n<g id=\"node47\" class=\"node\">\n<title>46</title>\n<path fill=\"#fbebe0\" stroke=\"black\" d=\"M3348.5,-365C3348.5,-365 3232.5,-365 3232.5,-365 3226.5,-365 3220.5,-359 3220.5,-353 3220.5,-353 3220.5,-309 3220.5,-309 3220.5,-303 3226.5,-297 3232.5,-297 3232.5,-297 3348.5,-297 3348.5,-297 3354.5,-297 3360.5,-303 3360.5,-309 3360.5,-309 3360.5,-353 3360.5,-353 3360.5,-359 3354.5,-365 3348.5,-365\"/>\n<text text-anchor=\"middle\" x=\"3290.5\" y=\"-349.8\" font-family=\"Helvetica,sans-Serif\" font-size=\"14.00\">occupation &lt;= 3.5</text>\n<text text-anchor=\"middle\" x=\"3290.5\" y=\"-334.8\" font-family=\"Helvetica,sans-Serif\" font-size=\"14.00\">entropy = 0.995</text>\n<text text-anchor=\"middle\" x=\"3290.5\" y=\"-319.8\" font-family=\"Helvetica,sans-Serif\" font-size=\"14.00\">samples = 6302</text>\n<text text-anchor=\"middle\" x=\"3290.5\" y=\"-304.8\" font-family=\"Helvetica,sans-Serif\" font-size=\"14.00\">value = [3422, 2880]</text>\n</g>\n<!-- 30&#45;&gt;46 -->\n<g id=\"edge46\" class=\"edge\">\n<title>30&#45;&gt;46</title>\n<path fill=\"none\" stroke=\"black\" d=\"M2481.05,-424.77C2650.35,-405.36 3041.39,-360.55 3210.35,-341.19\"/>\n<polygon fill=\"black\" stroke=\"black\" points=\"3210.88,-344.65 3220.42,-340.03 3210.09,-337.69 3210.88,-344.65\"/>\n</g>\n<!-- 32 -->\n<g id=\"node33\" class=\"node\">\n<title>32</title>\n<path fill=\"#f7d9c4\" stroke=\"black\" d=\"M2327.5,-261C2327.5,-261 2219.5,-261 2219.5,-261 2213.5,-261 2207.5,-255 2207.5,-249 2207.5,-249 2207.5,-205 2207.5,-205 2207.5,-199 2213.5,-193 2219.5,-193 2219.5,-193 2327.5,-193 2327.5,-193 2333.5,-193 2339.5,-199 2339.5,-205 2339.5,-205 2339.5,-249 2339.5,-249 2339.5,-255 2333.5,-261 2327.5,-261\"/>\n<text text-anchor=\"middle\" x=\"2273.5\" y=\"-245.8\" font-family=\"Helvetica,sans-Serif\" font-size=\"14.00\">age &lt;= 36.5</text>\n<text text-anchor=\"middle\" x=\"2273.5\" y=\"-230.8\" font-family=\"Helvetica,sans-Serif\" font-size=\"14.00\">entropy = 0.977</text>\n<text text-anchor=\"middle\" x=\"2273.5\" y=\"-215.8\" font-family=\"Helvetica,sans-Serif\" font-size=\"14.00\">samples = 2001</text>\n<text text-anchor=\"middle\" x=\"2273.5\" y=\"-200.8\" font-family=\"Helvetica,sans-Serif\" font-size=\"14.00\">value = [1177, 824]</text>\n</g>\n<!-- 31&#45;&gt;32 -->\n<g id=\"edge32\" class=\"edge\">\n<title>31&#45;&gt;32</title>\n<path fill=\"none\" stroke=\"black\" d=\"M2359.27,-296.88C2347.62,-287.53 2334.83,-277.26 2322.77,-267.57\"/>\n<polygon fill=\"black\" stroke=\"black\" points=\"2324.95,-264.83 2314.96,-261.3 2320.57,-270.29 2324.95,-264.83\"/>\n</g>\n<!-- 39 -->\n<g id=\"node40\" class=\"node\">\n<title>39</title>\n<path fill=\"#eca26d\" stroke=\"black\" d=\"M2614.5,-261C2614.5,-261 2498.5,-261 2498.5,-261 2492.5,-261 2486.5,-255 2486.5,-249 2486.5,-249 2486.5,-205 2486.5,-205 2486.5,-199 2492.5,-193 2498.5,-193 2498.5,-193 2614.5,-193 2614.5,-193 2620.5,-193 2626.5,-199 2626.5,-205 2626.5,-205 2626.5,-249 2626.5,-249 2626.5,-255 2620.5,-261 2614.5,-261\"/>\n<text text-anchor=\"middle\" x=\"2556.5\" y=\"-245.8\" font-family=\"Helvetica,sans-Serif\" font-size=\"14.00\">age &lt;= 35.5</text>\n<text text-anchor=\"middle\" x=\"2556.5\" y=\"-230.8\" font-family=\"Helvetica,sans-Serif\" font-size=\"14.00\">entropy = 0.738</text>\n<text text-anchor=\"middle\" x=\"2556.5\" y=\"-215.8\" font-family=\"Helvetica,sans-Serif\" font-size=\"14.00\">samples = 11340</text>\n<text text-anchor=\"middle\" x=\"2556.5\" y=\"-200.8\" font-family=\"Helvetica,sans-Serif\" font-size=\"14.00\">value = [8979, 2361]</text>\n</g>\n<!-- 31&#45;&gt;39 -->\n<g id=\"edge39\" class=\"edge\">\n<title>31&#45;&gt;39</title>\n<path fill=\"none\" stroke=\"black\" d=\"M2451.15,-296.88C2465.8,-287.3 2481.92,-276.76 2497.06,-266.86\"/>\n<polygon fill=\"black\" stroke=\"black\" points=\"2499.38,-269.53 2505.84,-261.12 2495.55,-263.67 2499.38,-269.53\"/>\n</g>\n<!-- 33 -->\n<g id=\"node34\" class=\"node\">\n<title>33</title>\n<path fill=\"#f1ba92\" stroke=\"black\" d=\"M2119,-157C2119,-157 1982,-157 1982,-157 1976,-157 1970,-151 1970,-145 1970,-145 1970,-101 1970,-101 1970,-95 1976,-89 1982,-89 1982,-89 2119,-89 2119,-89 2125,-89 2131,-95 2131,-101 2131,-101 2131,-145 2131,-145 2131,-151 2125,-157 2119,-157\"/>\n<text text-anchor=\"middle\" x=\"2050.5\" y=\"-141.8\" font-family=\"Helvetica,sans-Serif\" font-size=\"14.00\">hours&#45;per&#45;week &lt;= 22.5</text>\n<text text-anchor=\"middle\" x=\"2050.5\" y=\"-126.8\" font-family=\"Helvetica,sans-Serif\" font-size=\"14.00\">entropy = 0.893</text>\n<text text-anchor=\"middle\" x=\"2050.5\" y=\"-111.8\" font-family=\"Helvetica,sans-Serif\" font-size=\"14.00\">samples = 691</text>\n<text text-anchor=\"middle\" x=\"2050.5\" y=\"-96.8\" font-family=\"Helvetica,sans-Serif\" font-size=\"14.00\">value = [477, 214]</text>\n</g>\n<!-- 32&#45;&gt;33 -->\n<g id=\"edge33\" class=\"edge\">\n<title>32&#45;&gt;33</title>\n<path fill=\"none\" stroke=\"black\" d=\"M2207.5,-195.81C2183.92,-185.03 2157.07,-172.75 2132.33,-161.43\"/>\n<polygon fill=\"black\" stroke=\"black\" points=\"2133.51,-158.12 2122.96,-157.14 2130.6,-164.49 2133.51,-158.12\"/>\n</g>\n<!-- 36 -->\n<g id=\"node37\" class=\"node\">\n<title>36</title>\n<path fill=\"#fcefe6\" stroke=\"black\" d=\"M2342,-157C2342,-157 2205,-157 2205,-157 2199,-157 2193,-151 2193,-145 2193,-145 2193,-101 2193,-101 2193,-95 2199,-89 2205,-89 2205,-89 2342,-89 2342,-89 2348,-89 2354,-95 2354,-101 2354,-101 2354,-145 2354,-145 2354,-151 2348,-157 2342,-157\"/>\n<text text-anchor=\"middle\" x=\"2273.5\" y=\"-141.8\" font-family=\"Helvetica,sans-Serif\" font-size=\"14.00\">hours&#45;per&#45;week &lt;= 38.5</text>\n<text text-anchor=\"middle\" x=\"2273.5\" y=\"-126.8\" font-family=\"Helvetica,sans-Serif\" font-size=\"14.00\">entropy = 0.997</text>\n<text text-anchor=\"middle\" x=\"2273.5\" y=\"-111.8\" font-family=\"Helvetica,sans-Serif\" font-size=\"14.00\">samples = 1310</text>\n<text text-anchor=\"middle\" x=\"2273.5\" y=\"-96.8\" font-family=\"Helvetica,sans-Serif\" font-size=\"14.00\">value = [700, 610]</text>\n</g>\n<!-- 32&#45;&gt;36 -->\n<g id=\"edge36\" class=\"edge\">\n<title>32&#45;&gt;36</title>\n<path fill=\"none\" stroke=\"black\" d=\"M2273.5,-192.88C2273.5,-184.78 2273.5,-175.98 2273.5,-167.47\"/>\n<polygon fill=\"black\" stroke=\"black\" points=\"2277,-167.3 2273.5,-157.3 2270,-167.3 2277,-167.3\"/>\n</g>\n<!-- 34 -->\n<g id=\"node35\" class=\"node\">\n<title>34</title>\n<path fill=\"#ea985d\" stroke=\"black\" d=\"M1958,-53C1958,-53 1871,-53 1871,-53 1865,-53 1859,-47 1859,-41 1859,-41 1859,-12 1859,-12 1859,-6 1865,0 1871,0 1871,0 1958,0 1958,0 1964,0 1970,-6 1970,-12 1970,-12 1970,-41 1970,-41 1970,-47 1964,-53 1958,-53\"/>\n<text text-anchor=\"middle\" x=\"1914.5\" y=\"-37.8\" font-family=\"Helvetica,sans-Serif\" font-size=\"14.00\">entropy = 0.624</text>\n<text text-anchor=\"middle\" x=\"1914.5\" y=\"-22.8\" font-family=\"Helvetica,sans-Serif\" font-size=\"14.00\">samples = 45</text>\n<text text-anchor=\"middle\" x=\"1914.5\" y=\"-7.8\" font-family=\"Helvetica,sans-Serif\" font-size=\"14.00\">value = [38, 7]</text>\n</g>\n<!-- 33&#45;&gt;34 -->\n<g id=\"edge34\" class=\"edge\">\n<title>33&#45;&gt;34</title>\n<path fill=\"none\" stroke=\"black\" d=\"M2002.93,-88.95C1988.98,-79.25 1973.76,-68.68 1959.94,-59.07\"/>\n<polygon fill=\"black\" stroke=\"black\" points=\"1961.75,-56.07 1951.54,-53.24 1957.75,-61.82 1961.75,-56.07\"/>\n</g>\n<!-- 35 -->\n<g id=\"node36\" class=\"node\">\n<title>35</title>\n<path fill=\"#f1bc96\" stroke=\"black\" d=\"M2101,-53C2101,-53 2000,-53 2000,-53 1994,-53 1988,-47 1988,-41 1988,-41 1988,-12 1988,-12 1988,-6 1994,0 2000,0 2000,0 2101,0 2101,0 2107,0 2113,-6 2113,-12 2113,-12 2113,-41 2113,-41 2113,-47 2107,-53 2101,-53\"/>\n<text text-anchor=\"middle\" x=\"2050.5\" y=\"-37.8\" font-family=\"Helvetica,sans-Serif\" font-size=\"14.00\">entropy = 0.905</text>\n<text text-anchor=\"middle\" x=\"2050.5\" y=\"-22.8\" font-family=\"Helvetica,sans-Serif\" font-size=\"14.00\">samples = 646</text>\n<text text-anchor=\"middle\" x=\"2050.5\" y=\"-7.8\" font-family=\"Helvetica,sans-Serif\" font-size=\"14.00\">value = [439, 207]</text>\n</g>\n<!-- 33&#45;&gt;35 -->\n<g id=\"edge35\" class=\"edge\">\n<title>33&#45;&gt;35</title>\n<path fill=\"none\" stroke=\"black\" d=\"M2050.5,-88.95C2050.5,-80.72 2050.5,-71.85 2050.5,-63.48\"/>\n<polygon fill=\"black\" stroke=\"black\" points=\"2054,-63.24 2050.5,-53.24 2047,-63.24 2054,-63.24\"/>\n</g>\n<!-- 37 -->\n<g id=\"node38\" class=\"node\">\n<title>37</title>\n<path fill=\"#f0b890\" stroke=\"black\" d=\"M2244,-53C2244,-53 2143,-53 2143,-53 2137,-53 2131,-47 2131,-41 2131,-41 2131,-12 2131,-12 2131,-6 2137,0 2143,0 2143,0 2244,0 2244,0 2250,0 2256,-6 2256,-12 2256,-12 2256,-41 2256,-41 2256,-47 2250,-53 2244,-53\"/>\n<text text-anchor=\"middle\" x=\"2193.5\" y=\"-37.8\" font-family=\"Helvetica,sans-Serif\" font-size=\"14.00\">entropy = 0.887</text>\n<text text-anchor=\"middle\" x=\"2193.5\" y=\"-22.8\" font-family=\"Helvetica,sans-Serif\" font-size=\"14.00\">samples = 348</text>\n<text text-anchor=\"middle\" x=\"2193.5\" y=\"-7.8\" font-family=\"Helvetica,sans-Serif\" font-size=\"14.00\">value = [242, 106]</text>\n</g>\n<!-- 36&#45;&gt;37 -->\n<g id=\"edge37\" class=\"edge\">\n<title>36&#45;&gt;37</title>\n<path fill=\"none\" stroke=\"black\" d=\"M2245.52,-88.95C2237.85,-79.89 2229.54,-70.07 2221.85,-60.99\"/>\n<polygon fill=\"black\" stroke=\"black\" points=\"2224.42,-58.61 2215.29,-53.24 2219.08,-63.13 2224.42,-58.61\"/>\n</g>\n<!-- 38 -->\n<g id=\"node39\" class=\"node\">\n<title>38</title>\n<path fill=\"#edf6fd\" stroke=\"black\" d=\"M2387,-53C2387,-53 2286,-53 2286,-53 2280,-53 2274,-47 2274,-41 2274,-41 2274,-12 2274,-12 2274,-6 2280,0 2286,0 2286,0 2387,0 2387,0 2393,0 2399,-6 2399,-12 2399,-12 2399,-41 2399,-41 2399,-47 2393,-53 2387,-53\"/>\n<text text-anchor=\"middle\" x=\"2336.5\" y=\"-37.8\" font-family=\"Helvetica,sans-Serif\" font-size=\"14.00\">entropy = 0.998</text>\n<text text-anchor=\"middle\" x=\"2336.5\" y=\"-22.8\" font-family=\"Helvetica,sans-Serif\" font-size=\"14.00\">samples = 962</text>\n<text text-anchor=\"middle\" x=\"2336.5\" y=\"-7.8\" font-family=\"Helvetica,sans-Serif\" font-size=\"14.00\">value = [458, 504]</text>\n</g>\n<!-- 36&#45;&gt;38 -->\n<g id=\"edge38\" class=\"edge\">\n<title>36&#45;&gt;38</title>\n<path fill=\"none\" stroke=\"black\" d=\"M2295.53,-88.95C2301.39,-80.17 2307.72,-70.66 2313.62,-61.82\"/>\n<polygon fill=\"black\" stroke=\"black\" points=\"2316.71,-63.5 2319.34,-53.24 2310.88,-59.62 2316.71,-63.5\"/>\n</g>\n<!-- 40 -->\n<g id=\"node41\" class=\"node\">\n<title>40</title>\n<path fill=\"#e99254\" stroke=\"black\" d=\"M2610.5,-157C2610.5,-157 2502.5,-157 2502.5,-157 2496.5,-157 2490.5,-151 2490.5,-145 2490.5,-145 2490.5,-101 2490.5,-101 2490.5,-95 2496.5,-89 2502.5,-89 2502.5,-89 2610.5,-89 2610.5,-89 2616.5,-89 2622.5,-95 2622.5,-101 2622.5,-101 2622.5,-145 2622.5,-145 2622.5,-151 2616.5,-157 2610.5,-157\"/>\n<text text-anchor=\"middle\" x=\"2556.5\" y=\"-141.8\" font-family=\"Helvetica,sans-Serif\" font-size=\"14.00\">education &lt;= 2.5</text>\n<text text-anchor=\"middle\" x=\"2556.5\" y=\"-126.8\" font-family=\"Helvetica,sans-Serif\" font-size=\"14.00\">entropy = 0.528</text>\n<text text-anchor=\"middle\" x=\"2556.5\" y=\"-111.8\" font-family=\"Helvetica,sans-Serif\" font-size=\"14.00\">samples = 3125</text>\n<text text-anchor=\"middle\" x=\"2556.5\" y=\"-96.8\" font-family=\"Helvetica,sans-Serif\" font-size=\"14.00\">value = [2752, 373]</text>\n</g>\n<!-- 39&#45;&gt;40 -->\n<g id=\"edge40\" class=\"edge\">\n<title>39&#45;&gt;40</title>\n<path fill=\"none\" stroke=\"black\" d=\"M2556.5,-192.88C2556.5,-184.78 2556.5,-175.98 2556.5,-167.47\"/>\n<polygon fill=\"black\" stroke=\"black\" points=\"2560,-167.3 2556.5,-157.3 2553,-167.3 2560,-167.3\"/>\n</g>\n<!-- 43 -->\n<g id=\"node44\" class=\"node\">\n<title>43</title>\n<path fill=\"#eda978\" stroke=\"black\" d=\"M2841.5,-157C2841.5,-157 2725.5,-157 2725.5,-157 2719.5,-157 2713.5,-151 2713.5,-145 2713.5,-145 2713.5,-101 2713.5,-101 2713.5,-95 2719.5,-89 2725.5,-89 2725.5,-89 2841.5,-89 2841.5,-89 2847.5,-89 2853.5,-95 2853.5,-101 2853.5,-101 2853.5,-145 2853.5,-145 2853.5,-151 2847.5,-157 2841.5,-157\"/>\n<text text-anchor=\"middle\" x=\"2783.5\" y=\"-141.8\" font-family=\"Helvetica,sans-Serif\" font-size=\"14.00\">occupation &lt;= 3.5</text>\n<text text-anchor=\"middle\" x=\"2783.5\" y=\"-126.8\" font-family=\"Helvetica,sans-Serif\" font-size=\"14.00\">entropy = 0.798</text>\n<text text-anchor=\"middle\" x=\"2783.5\" y=\"-111.8\" font-family=\"Helvetica,sans-Serif\" font-size=\"14.00\">samples = 8215</text>\n<text text-anchor=\"middle\" x=\"2783.5\" y=\"-96.8\" font-family=\"Helvetica,sans-Serif\" font-size=\"14.00\">value = [6227, 1988]</text>\n</g>\n<!-- 39&#45;&gt;43 -->\n<g id=\"edge43\" class=\"edge\">\n<title>39&#45;&gt;43</title>\n<path fill=\"none\" stroke=\"black\" d=\"M2626.77,-194.43C2651.24,-183.43 2678.86,-171.02 2704.02,-159.71\"/>\n<polygon fill=\"black\" stroke=\"black\" points=\"2705.48,-162.89 2713.17,-155.6 2702.62,-156.51 2705.48,-162.89\"/>\n</g>\n<!-- 41 -->\n<g id=\"node42\" class=\"node\">\n<title>41</title>\n<path fill=\"#e78d4b\" stroke=\"black\" d=\"M2537.5,-53C2537.5,-53 2429.5,-53 2429.5,-53 2423.5,-53 2417.5,-47 2417.5,-41 2417.5,-41 2417.5,-12 2417.5,-12 2417.5,-6 2423.5,0 2429.5,0 2429.5,0 2537.5,0 2537.5,0 2543.5,0 2549.5,-6 2549.5,-12 2549.5,-12 2549.5,-41 2549.5,-41 2549.5,-47 2543.5,-53 2537.5,-53\"/>\n<text text-anchor=\"middle\" x=\"2483.5\" y=\"-37.8\" font-family=\"Helvetica,sans-Serif\" font-size=\"14.00\">entropy = 0.416</text>\n<text text-anchor=\"middle\" x=\"2483.5\" y=\"-22.8\" font-family=\"Helvetica,sans-Serif\" font-size=\"14.00\">samples = 1503</text>\n<text text-anchor=\"middle\" x=\"2483.5\" y=\"-7.8\" font-family=\"Helvetica,sans-Serif\" font-size=\"14.00\">value = [1377, 126]</text>\n</g>\n<!-- 40&#45;&gt;41 -->\n<g id=\"edge41\" class=\"edge\">\n<title>40&#45;&gt;41</title>\n<path fill=\"none\" stroke=\"black\" d=\"M2530.97,-88.95C2524.04,-79.98 2516.54,-70.27 2509.58,-61.26\"/>\n<polygon fill=\"black\" stroke=\"black\" points=\"2512.26,-59.01 2503.38,-53.24 2506.72,-63.29 2512.26,-59.01\"/>\n</g>\n<!-- 42 -->\n<g id=\"node43\" class=\"node\">\n<title>42</title>\n<path fill=\"#ea985d\" stroke=\"black\" d=\"M2687.5,-53C2687.5,-53 2579.5,-53 2579.5,-53 2573.5,-53 2567.5,-47 2567.5,-41 2567.5,-41 2567.5,-12 2567.5,-12 2567.5,-6 2573.5,0 2579.5,0 2579.5,0 2687.5,0 2687.5,0 2693.5,0 2699.5,-6 2699.5,-12 2699.5,-12 2699.5,-41 2699.5,-41 2699.5,-47 2693.5,-53 2687.5,-53\"/>\n<text text-anchor=\"middle\" x=\"2633.5\" y=\"-37.8\" font-family=\"Helvetica,sans-Serif\" font-size=\"14.00\">entropy = 0.616</text>\n<text text-anchor=\"middle\" x=\"2633.5\" y=\"-22.8\" font-family=\"Helvetica,sans-Serif\" font-size=\"14.00\">samples = 1622</text>\n<text text-anchor=\"middle\" x=\"2633.5\" y=\"-7.8\" font-family=\"Helvetica,sans-Serif\" font-size=\"14.00\">value = [1375, 247]</text>\n</g>\n<!-- 40&#45;&gt;42 -->\n<g id=\"edge42\" class=\"edge\">\n<title>40&#45;&gt;42</title>\n<path fill=\"none\" stroke=\"black\" d=\"M2583.43,-88.95C2590.74,-79.98 2598.65,-70.27 2605.99,-61.26\"/>\n<polygon fill=\"black\" stroke=\"black\" points=\"2608.93,-63.2 2612.53,-53.24 2603.5,-58.78 2608.93,-63.2\"/>\n</g>\n<!-- 44 -->\n<g id=\"node45\" class=\"node\">\n<title>44</title>\n<path fill=\"#f1bd98\" stroke=\"black\" d=\"M2837.5,-53C2837.5,-53 2729.5,-53 2729.5,-53 2723.5,-53 2717.5,-47 2717.5,-41 2717.5,-41 2717.5,-12 2717.5,-12 2717.5,-6 2723.5,0 2729.5,0 2729.5,0 2837.5,0 2837.5,0 2843.5,0 2849.5,-6 2849.5,-12 2849.5,-12 2849.5,-41 2849.5,-41 2849.5,-47 2843.5,-53 2837.5,-53\"/>\n<text text-anchor=\"middle\" x=\"2783.5\" y=\"-37.8\" font-family=\"Helvetica,sans-Serif\" font-size=\"14.00\">entropy = 0.909</text>\n<text text-anchor=\"middle\" x=\"2783.5\" y=\"-22.8\" font-family=\"Helvetica,sans-Serif\" font-size=\"14.00\">samples = 3082</text>\n<text text-anchor=\"middle\" x=\"2783.5\" y=\"-7.8\" font-family=\"Helvetica,sans-Serif\" font-size=\"14.00\">value = [2083, 999]</text>\n</g>\n<!-- 43&#45;&gt;44 -->\n<g id=\"edge44\" class=\"edge\">\n<title>43&#45;&gt;44</title>\n<path fill=\"none\" stroke=\"black\" d=\"M2783.5,-88.95C2783.5,-80.72 2783.5,-71.85 2783.5,-63.48\"/>\n<polygon fill=\"black\" stroke=\"black\" points=\"2787,-63.24 2783.5,-53.24 2780,-63.24 2787,-63.24\"/>\n</g>\n<!-- 45 -->\n<g id=\"node46\" class=\"node\">\n<title>45</title>\n<path fill=\"#eb9f68\" stroke=\"black\" d=\"M2987.5,-53C2987.5,-53 2879.5,-53 2879.5,-53 2873.5,-53 2867.5,-47 2867.5,-41 2867.5,-41 2867.5,-12 2867.5,-12 2867.5,-6 2873.5,0 2879.5,0 2879.5,0 2987.5,0 2987.5,0 2993.5,0 2999.5,-6 2999.5,-12 2999.5,-12 2999.5,-41 2999.5,-41 2999.5,-47 2993.5,-53 2987.5,-53\"/>\n<text text-anchor=\"middle\" x=\"2933.5\" y=\"-37.8\" font-family=\"Helvetica,sans-Serif\" font-size=\"14.00\">entropy = 0.707</text>\n<text text-anchor=\"middle\" x=\"2933.5\" y=\"-22.8\" font-family=\"Helvetica,sans-Serif\" font-size=\"14.00\">samples = 5133</text>\n<text text-anchor=\"middle\" x=\"2933.5\" y=\"-7.8\" font-family=\"Helvetica,sans-Serif\" font-size=\"14.00\">value = [4144, 989]</text>\n</g>\n<!-- 43&#45;&gt;45 -->\n<g id=\"edge45\" class=\"edge\">\n<title>43&#45;&gt;45</title>\n<path fill=\"none\" stroke=\"black\" d=\"M2835.96,-88.95C2851.5,-79.16 2868.46,-68.48 2883.82,-58.8\"/>\n<polygon fill=\"black\" stroke=\"black\" points=\"2886.05,-61.53 2892.65,-53.24 2882.32,-55.61 2886.05,-61.53\"/>\n</g>\n<!-- 47 -->\n<g id=\"node48\" class=\"node\">\n<title>47</title>\n<path fill=\"#cae5f8\" stroke=\"black\" d=\"M3348.5,-261C3348.5,-261 3232.5,-261 3232.5,-261 3226.5,-261 3220.5,-255 3220.5,-249 3220.5,-249 3220.5,-205 3220.5,-205 3220.5,-199 3226.5,-193 3232.5,-193 3232.5,-193 3348.5,-193 3348.5,-193 3354.5,-193 3360.5,-199 3360.5,-205 3360.5,-205 3360.5,-249 3360.5,-249 3360.5,-255 3354.5,-261 3348.5,-261\"/>\n<text text-anchor=\"middle\" x=\"3290.5\" y=\"-245.8\" font-family=\"Helvetica,sans-Serif\" font-size=\"14.00\">education &lt;= 8.5</text>\n<text text-anchor=\"middle\" x=\"3290.5\" y=\"-230.8\" font-family=\"Helvetica,sans-Serif\" font-size=\"14.00\">entropy = 0.983</text>\n<text text-anchor=\"middle\" x=\"3290.5\" y=\"-215.8\" font-family=\"Helvetica,sans-Serif\" font-size=\"14.00\">samples = 2972</text>\n<text text-anchor=\"middle\" x=\"3290.5\" y=\"-200.8\" font-family=\"Helvetica,sans-Serif\" font-size=\"14.00\">value = [1257, 1715]</text>\n</g>\n<!-- 46&#45;&gt;47 -->\n<g id=\"edge47\" class=\"edge\">\n<title>46&#45;&gt;47</title>\n<path fill=\"none\" stroke=\"black\" d=\"M3290.5,-296.88C3290.5,-288.78 3290.5,-279.98 3290.5,-271.47\"/>\n<polygon fill=\"black\" stroke=\"black\" points=\"3294,-271.3 3290.5,-261.3 3287,-271.3 3294,-271.3\"/>\n</g>\n<!-- 54 -->\n<g id=\"node55\" class=\"node\">\n<title>54</title>\n<path fill=\"#f3c5a4\" stroke=\"black\" d=\"M3747.5,-261C3747.5,-261 3631.5,-261 3631.5,-261 3625.5,-261 3619.5,-255 3619.5,-249 3619.5,-249 3619.5,-205 3619.5,-205 3619.5,-199 3625.5,-193 3631.5,-193 3631.5,-193 3747.5,-193 3747.5,-193 3753.5,-193 3759.5,-199 3759.5,-205 3759.5,-205 3759.5,-249 3759.5,-249 3759.5,-255 3753.5,-261 3747.5,-261\"/>\n<text text-anchor=\"middle\" x=\"3689.5\" y=\"-245.8\" font-family=\"Helvetica,sans-Serif\" font-size=\"14.00\">education &lt;= 0.5</text>\n<text text-anchor=\"middle\" x=\"3689.5\" y=\"-230.8\" font-family=\"Helvetica,sans-Serif\" font-size=\"14.00\">entropy = 0.934</text>\n<text text-anchor=\"middle\" x=\"3689.5\" y=\"-215.8\" font-family=\"Helvetica,sans-Serif\" font-size=\"14.00\">samples = 3330</text>\n<text text-anchor=\"middle\" x=\"3689.5\" y=\"-200.8\" font-family=\"Helvetica,sans-Serif\" font-size=\"14.00\">value = [2165, 1165]</text>\n</g>\n<!-- 46&#45;&gt;54 -->\n<g id=\"edge54\" class=\"edge\">\n<title>46&#45;&gt;54</title>\n<path fill=\"none\" stroke=\"black\" d=\"M3360.91,-312C3430.46,-294.22 3536.7,-267.06 3609.42,-248.47\"/>\n<polygon fill=\"black\" stroke=\"black\" points=\"3610.63,-251.77 3619.45,-245.91 3608.9,-244.99 3610.63,-251.77\"/>\n</g>\n<!-- 48 -->\n<g id=\"node49\" class=\"node\">\n<title>48</title>\n<path fill=\"#e2f1fb\" stroke=\"black\" d=\"M3273.5,-157C3273.5,-157 3157.5,-157 3157.5,-157 3151.5,-157 3145.5,-151 3145.5,-145 3145.5,-145 3145.5,-101 3145.5,-101 3145.5,-95 3151.5,-89 3157.5,-89 3157.5,-89 3273.5,-89 3273.5,-89 3279.5,-89 3285.5,-95 3285.5,-101 3285.5,-101 3285.5,-145 3285.5,-145 3285.5,-151 3279.5,-157 3273.5,-157\"/>\n<text text-anchor=\"middle\" x=\"3215.5\" y=\"-141.8\" font-family=\"Helvetica,sans-Serif\" font-size=\"14.00\">occupation &lt;= 0.5</text>\n<text text-anchor=\"middle\" x=\"3215.5\" y=\"-126.8\" font-family=\"Helvetica,sans-Serif\" font-size=\"14.00\">entropy = 0.996</text>\n<text text-anchor=\"middle\" x=\"3215.5\" y=\"-111.8\" font-family=\"Helvetica,sans-Serif\" font-size=\"14.00\">samples = 2523</text>\n<text text-anchor=\"middle\" x=\"3215.5\" y=\"-96.8\" font-family=\"Helvetica,sans-Serif\" font-size=\"14.00\">value = [1163, 1360]</text>\n</g>\n<!-- 47&#45;&gt;48 -->\n<g id=\"edge48\" class=\"edge\">\n<title>47&#45;&gt;48</title>\n<path fill=\"none\" stroke=\"black\" d=\"M3266.15,-192.88C3259.73,-184.15 3252.72,-174.62 3246.02,-165.51\"/>\n<polygon fill=\"black\" stroke=\"black\" points=\"3248.73,-163.28 3239.98,-157.3 3243.09,-167.43 3248.73,-163.28\"/>\n</g>\n<!-- 51 -->\n<g id=\"node52\" class=\"node\">\n<title>51</title>\n<path fill=\"#6db7ec\" stroke=\"black\" d=\"M3417,-157C3417,-157 3316,-157 3316,-157 3310,-157 3304,-151 3304,-145 3304,-145 3304,-101 3304,-101 3304,-95 3310,-89 3316,-89 3316,-89 3417,-89 3417,-89 3423,-89 3429,-95 3429,-101 3429,-101 3429,-145 3429,-145 3429,-151 3423,-157 3417,-157\"/>\n<text text-anchor=\"middle\" x=\"3366.5\" y=\"-141.8\" font-family=\"Helvetica,sans-Serif\" font-size=\"14.00\">education &lt;= 10.5</text>\n<text text-anchor=\"middle\" x=\"3366.5\" y=\"-126.8\" font-family=\"Helvetica,sans-Serif\" font-size=\"14.00\">entropy = 0.74</text>\n<text text-anchor=\"middle\" x=\"3366.5\" y=\"-111.8\" font-family=\"Helvetica,sans-Serif\" font-size=\"14.00\">samples = 449</text>\n<text text-anchor=\"middle\" x=\"3366.5\" y=\"-96.8\" font-family=\"Helvetica,sans-Serif\" font-size=\"14.00\">value = [94, 355]</text>\n</g>\n<!-- 47&#45;&gt;51 -->\n<g id=\"edge51\" class=\"edge\">\n<title>47&#45;&gt;51</title>\n<path fill=\"none\" stroke=\"black\" d=\"M3315.18,-192.88C3321.68,-184.15 3328.78,-174.62 3335.57,-165.51\"/>\n<polygon fill=\"black\" stroke=\"black\" points=\"3338.52,-167.41 3341.69,-157.3 3332.91,-163.23 3338.52,-167.41\"/>\n</g>\n<!-- 49 -->\n<g id=\"node50\" class=\"node\">\n<title>49</title>\n<path fill=\"#f1ba93\" stroke=\"black\" d=\"M3123,-53C3123,-53 3030,-53 3030,-53 3024,-53 3018,-47 3018,-41 3018,-41 3018,-12 3018,-12 3018,-6 3024,0 3030,0 3030,0 3123,0 3123,0 3129,0 3135,-6 3135,-12 3135,-12 3135,-41 3135,-41 3135,-47 3129,-53 3123,-53\"/>\n<text text-anchor=\"middle\" x=\"3076.5\" y=\"-37.8\" font-family=\"Helvetica,sans-Serif\" font-size=\"14.00\">entropy = 0.897</text>\n<text text-anchor=\"middle\" x=\"3076.5\" y=\"-22.8\" font-family=\"Helvetica,sans-Serif\" font-size=\"14.00\">samples = 300</text>\n<text text-anchor=\"middle\" x=\"3076.5\" y=\"-7.8\" font-family=\"Helvetica,sans-Serif\" font-size=\"14.00\">value = [206, 94]</text>\n</g>\n<!-- 48&#45;&gt;49 -->\n<g id=\"edge49\" class=\"edge\">\n<title>48&#45;&gt;49</title>\n<path fill=\"none\" stroke=\"black\" d=\"M3166.88,-88.95C3152.62,-79.25 3137.06,-68.68 3122.94,-59.07\"/>\n<polygon fill=\"black\" stroke=\"black\" points=\"3124.59,-55.96 3114.36,-53.24 3120.66,-61.75 3124.59,-55.96\"/>\n</g>\n<!-- 50 -->\n<g id=\"node51\" class=\"node\">\n<title>50</title>\n<path fill=\"#cfe7f9\" stroke=\"black\" d=\"M3273.5,-53C3273.5,-53 3165.5,-53 3165.5,-53 3159.5,-53 3153.5,-47 3153.5,-41 3153.5,-41 3153.5,-12 3153.5,-12 3153.5,-6 3159.5,0 3165.5,0 3165.5,0 3273.5,0 3273.5,0 3279.5,0 3285.5,-6 3285.5,-12 3285.5,-12 3285.5,-41 3285.5,-41 3285.5,-47 3279.5,-53 3273.5,-53\"/>\n<text text-anchor=\"middle\" x=\"3219.5\" y=\"-37.8\" font-family=\"Helvetica,sans-Serif\" font-size=\"14.00\">entropy = 0.986</text>\n<text text-anchor=\"middle\" x=\"3219.5\" y=\"-22.8\" font-family=\"Helvetica,sans-Serif\" font-size=\"14.00\">samples = 2223</text>\n<text text-anchor=\"middle\" x=\"3219.5\" y=\"-7.8\" font-family=\"Helvetica,sans-Serif\" font-size=\"14.00\">value = [957, 1266]</text>\n</g>\n<!-- 48&#45;&gt;50 -->\n<g id=\"edge50\" class=\"edge\">\n<title>48&#45;&gt;50</title>\n<path fill=\"none\" stroke=\"black\" d=\"M3216.9,-88.95C3217.25,-80.72 3217.62,-71.85 3217.98,-63.48\"/>\n<polygon fill=\"black\" stroke=\"black\" points=\"3221.48,-63.38 3218.41,-53.24 3214.49,-63.08 3221.48,-63.38\"/>\n</g>\n<!-- 52 -->\n<g id=\"node53\" class=\"node\">\n<title>52</title>\n<path fill=\"#61b1ea\" stroke=\"black\" d=\"M3409,-53C3409,-53 3316,-53 3316,-53 3310,-53 3304,-47 3304,-41 3304,-41 3304,-12 3304,-12 3304,-6 3310,0 3316,0 3316,0 3409,0 3409,0 3415,0 3421,-6 3421,-12 3421,-12 3421,-41 3421,-41 3421,-47 3415,-53 3409,-53\"/>\n<text text-anchor=\"middle\" x=\"3362.5\" y=\"-37.8\" font-family=\"Helvetica,sans-Serif\" font-size=\"14.00\">entropy = 0.656</text>\n<text text-anchor=\"middle\" x=\"3362.5\" y=\"-22.8\" font-family=\"Helvetica,sans-Serif\" font-size=\"14.00\">samples = 419</text>\n<text text-anchor=\"middle\" x=\"3362.5\" y=\"-7.8\" font-family=\"Helvetica,sans-Serif\" font-size=\"14.00\">value = [71, 348]</text>\n</g>\n<!-- 51&#45;&gt;52 -->\n<g id=\"edge52\" class=\"edge\">\n<title>51&#45;&gt;52</title>\n<path fill=\"none\" stroke=\"black\" d=\"M3365.1,-88.95C3364.75,-80.72 3364.38,-71.85 3364.02,-63.48\"/>\n<polygon fill=\"black\" stroke=\"black\" points=\"3367.51,-63.08 3363.59,-53.24 3360.52,-63.38 3367.51,-63.08\"/>\n</g>\n<!-- 53 -->\n<g id=\"node54\" class=\"node\">\n<title>53</title>\n<path fill=\"#eda775\" stroke=\"black\" d=\"M3538,-53C3538,-53 3451,-53 3451,-53 3445,-53 3439,-47 3439,-41 3439,-41 3439,-12 3439,-12 3439,-6 3445,0 3451,0 3451,0 3538,0 3538,0 3544,0 3550,-6 3550,-12 3550,-12 3550,-41 3550,-41 3550,-47 3544,-53 3538,-53\"/>\n<text text-anchor=\"middle\" x=\"3494.5\" y=\"-37.8\" font-family=\"Helvetica,sans-Serif\" font-size=\"14.00\">entropy = 0.784</text>\n<text text-anchor=\"middle\" x=\"3494.5\" y=\"-22.8\" font-family=\"Helvetica,sans-Serif\" font-size=\"14.00\">samples = 30</text>\n<text text-anchor=\"middle\" x=\"3494.5\" y=\"-7.8\" font-family=\"Helvetica,sans-Serif\" font-size=\"14.00\">value = [23, 7]</text>\n</g>\n<!-- 51&#45;&gt;53 -->\n<g id=\"edge53\" class=\"edge\">\n<title>51&#45;&gt;53</title>\n<path fill=\"none\" stroke=\"black\" d=\"M3411.27,-88.95C3424.28,-79.34 3438.46,-68.87 3451.37,-59.34\"/>\n<polygon fill=\"black\" stroke=\"black\" points=\"3453.67,-61.99 3459.64,-53.24 3449.52,-56.36 3453.67,-61.99\"/>\n</g>\n<!-- 55 -->\n<g id=\"node56\" class=\"node\">\n<title>55</title>\n<path fill=\"#d7ebfa\" stroke=\"black\" d=\"M3740,-157C3740,-157 3639,-157 3639,-157 3633,-157 3627,-151 3627,-145 3627,-145 3627,-101 3627,-101 3627,-95 3633,-89 3639,-89 3639,-89 3740,-89 3740,-89 3746,-89 3752,-95 3752,-101 3752,-101 3752,-145 3752,-145 3752,-151 3746,-157 3740,-157\"/>\n<text text-anchor=\"middle\" x=\"3689.5\" y=\"-141.8\" font-family=\"Helvetica,sans-Serif\" font-size=\"14.00\">workclass &lt;= 1.5</text>\n<text text-anchor=\"middle\" x=\"3689.5\" y=\"-126.8\" font-family=\"Helvetica,sans-Serif\" font-size=\"14.00\">entropy = 0.991</text>\n<text text-anchor=\"middle\" x=\"3689.5\" y=\"-111.8\" font-family=\"Helvetica,sans-Serif\" font-size=\"14.00\">samples = 503</text>\n<text text-anchor=\"middle\" x=\"3689.5\" y=\"-96.8\" font-family=\"Helvetica,sans-Serif\" font-size=\"14.00\">value = [223, 280]</text>\n</g>\n<!-- 54&#45;&gt;55 -->\n<g id=\"edge55\" class=\"edge\">\n<title>54&#45;&gt;55</title>\n<path fill=\"none\" stroke=\"black\" d=\"M3689.5,-192.88C3689.5,-184.78 3689.5,-175.98 3689.5,-167.47\"/>\n<polygon fill=\"black\" stroke=\"black\" points=\"3693,-167.3 3689.5,-157.3 3686,-167.3 3693,-167.3\"/>\n</g>\n<!-- 58 -->\n<g id=\"node59\" class=\"node\">\n<title>58</title>\n<path fill=\"#f1ba93\" stroke=\"black\" d=\"M3956.5,-157C3956.5,-157 3848.5,-157 3848.5,-157 3842.5,-157 3836.5,-151 3836.5,-145 3836.5,-145 3836.5,-101 3836.5,-101 3836.5,-95 3842.5,-89 3848.5,-89 3848.5,-89 3956.5,-89 3956.5,-89 3962.5,-89 3968.5,-95 3968.5,-101 3968.5,-101 3968.5,-145 3968.5,-145 3968.5,-151 3962.5,-157 3956.5,-157\"/>\n<text text-anchor=\"middle\" x=\"3902.5\" y=\"-141.8\" font-family=\"Helvetica,sans-Serif\" font-size=\"14.00\">age &lt;= 35.5</text>\n<text text-anchor=\"middle\" x=\"3902.5\" y=\"-126.8\" font-family=\"Helvetica,sans-Serif\" font-size=\"14.00\">entropy = 0.897</text>\n<text text-anchor=\"middle\" x=\"3902.5\" y=\"-111.8\" font-family=\"Helvetica,sans-Serif\" font-size=\"14.00\">samples = 2827</text>\n<text text-anchor=\"middle\" x=\"3902.5\" y=\"-96.8\" font-family=\"Helvetica,sans-Serif\" font-size=\"14.00\">value = [1942, 885]</text>\n</g>\n<!-- 54&#45;&gt;58 -->\n<g id=\"edge58\" class=\"edge\">\n<title>54&#45;&gt;58</title>\n<path fill=\"none\" stroke=\"black\" d=\"M3758.65,-192.88C3780.54,-182.4 3804.84,-170.77 3827.14,-160.09\"/>\n<polygon fill=\"black\" stroke=\"black\" points=\"3828.72,-163.21 3836.23,-155.74 3825.7,-156.9 3828.72,-163.21\"/>\n</g>\n<!-- 56 -->\n<g id=\"node57\" class=\"node\">\n<title>56</title>\n<path fill=\"#f6d2b8\" stroke=\"black\" d=\"M3667,-53C3667,-53 3580,-53 3580,-53 3574,-53 3568,-47 3568,-41 3568,-41 3568,-12 3568,-12 3568,-6 3574,0 3580,0 3580,0 3667,0 3667,0 3673,0 3679,-6 3679,-12 3679,-12 3679,-41 3679,-41 3679,-47 3673,-53 3667,-53\"/>\n<text text-anchor=\"middle\" x=\"3623.5\" y=\"-37.8\" font-family=\"Helvetica,sans-Serif\" font-size=\"14.00\">entropy = 0.965</text>\n<text text-anchor=\"middle\" x=\"3623.5\" y=\"-22.8\" font-family=\"Helvetica,sans-Serif\" font-size=\"14.00\">samples = 100</text>\n<text text-anchor=\"middle\" x=\"3623.5\" y=\"-7.8\" font-family=\"Helvetica,sans-Serif\" font-size=\"14.00\">value = [61, 39]</text>\n</g>\n<!-- 55&#45;&gt;56 -->\n<g id=\"edge56\" class=\"edge\">\n<title>55&#45;&gt;56</title>\n<path fill=\"none\" stroke=\"black\" d=\"M3666.42,-88.95C3660.22,-80.07 3653.51,-70.46 3647.27,-61.54\"/>\n<polygon fill=\"black\" stroke=\"black\" points=\"3650.07,-59.43 3641.47,-53.24 3644.33,-63.44 3650.07,-59.43\"/>\n</g>\n<!-- 57 -->\n<g id=\"node58\" class=\"node\">\n<title>57</title>\n<path fill=\"#bedff6\" stroke=\"black\" d=\"M3810,-53C3810,-53 3709,-53 3709,-53 3703,-53 3697,-47 3697,-41 3697,-41 3697,-12 3697,-12 3697,-6 3703,0 3709,0 3709,0 3810,0 3810,0 3816,0 3822,-6 3822,-12 3822,-12 3822,-41 3822,-41 3822,-47 3816,-53 3810,-53\"/>\n<text text-anchor=\"middle\" x=\"3759.5\" y=\"-37.8\" font-family=\"Helvetica,sans-Serif\" font-size=\"14.00\">entropy = 0.972</text>\n<text text-anchor=\"middle\" x=\"3759.5\" y=\"-22.8\" font-family=\"Helvetica,sans-Serif\" font-size=\"14.00\">samples = 403</text>\n<text text-anchor=\"middle\" x=\"3759.5\" y=\"-7.8\" font-family=\"Helvetica,sans-Serif\" font-size=\"14.00\">value = [162, 241]</text>\n</g>\n<!-- 55&#45;&gt;57 -->\n<g id=\"edge57\" class=\"edge\">\n<title>55&#45;&gt;57</title>\n<path fill=\"none\" stroke=\"black\" d=\"M3713.98,-88.95C3720.56,-80.07 3727.67,-70.46 3734.29,-61.54\"/>\n<polygon fill=\"black\" stroke=\"black\" points=\"3737.3,-63.36 3740.44,-53.24 3731.67,-59.19 3737.3,-63.36\"/>\n</g>\n<!-- 59 -->\n<g id=\"node60\" class=\"node\">\n<title>59</title>\n<path fill=\"#eca16b\" stroke=\"black\" d=\"M3953,-53C3953,-53 3852,-53 3852,-53 3846,-53 3840,-47 3840,-41 3840,-41 3840,-12 3840,-12 3840,-6 3846,0 3852,0 3852,0 3953,0 3953,0 3959,0 3965,-6 3965,-12 3965,-12 3965,-41 3965,-41 3965,-47 3959,-53 3953,-53\"/>\n<text text-anchor=\"middle\" x=\"3902.5\" y=\"-37.8\" font-family=\"Helvetica,sans-Serif\" font-size=\"14.00\">entropy = 0.724</text>\n<text text-anchor=\"middle\" x=\"3902.5\" y=\"-22.8\" font-family=\"Helvetica,sans-Serif\" font-size=\"14.00\">samples = 855</text>\n<text text-anchor=\"middle\" x=\"3902.5\" y=\"-7.8\" font-family=\"Helvetica,sans-Serif\" font-size=\"14.00\">value = [683, 172]</text>\n</g>\n<!-- 58&#45;&gt;59 -->\n<g id=\"edge59\" class=\"edge\">\n<title>58&#45;&gt;59</title>\n<path fill=\"none\" stroke=\"black\" d=\"M3902.5,-88.95C3902.5,-80.72 3902.5,-71.85 3902.5,-63.48\"/>\n<polygon fill=\"black\" stroke=\"black\" points=\"3906,-63.24 3902.5,-53.24 3899,-63.24 3906,-63.24\"/>\n</g>\n<!-- 60 -->\n<g id=\"node61\" class=\"node\">\n<title>60</title>\n<path fill=\"#f4c8a9\" stroke=\"black\" d=\"M4103.5,-53C4103.5,-53 3995.5,-53 3995.5,-53 3989.5,-53 3983.5,-47 3983.5,-41 3983.5,-41 3983.5,-12 3983.5,-12 3983.5,-6 3989.5,0 3995.5,0 3995.5,0 4103.5,0 4103.5,0 4109.5,0 4115.5,-6 4115.5,-12 4115.5,-12 4115.5,-41 4115.5,-41 4115.5,-47 4109.5,-53 4103.5,-53\"/>\n<text text-anchor=\"middle\" x=\"4049.5\" y=\"-37.8\" font-family=\"Helvetica,sans-Serif\" font-size=\"14.00\">entropy = 0.944</text>\n<text text-anchor=\"middle\" x=\"4049.5\" y=\"-22.8\" font-family=\"Helvetica,sans-Serif\" font-size=\"14.00\">samples = 1972</text>\n<text text-anchor=\"middle\" x=\"4049.5\" y=\"-7.8\" font-family=\"Helvetica,sans-Serif\" font-size=\"14.00\">value = [1259, 713]</text>\n</g>\n<!-- 58&#45;&gt;60 -->\n<g id=\"edge60\" class=\"edge\">\n<title>58&#45;&gt;60</title>\n<path fill=\"none\" stroke=\"black\" d=\"M3953.91,-88.95C3969.14,-79.16 3985.76,-68.48 4000.81,-58.8\"/>\n<polygon fill=\"black\" stroke=\"black\" points=\"4002.95,-61.59 4009.47,-53.24 3999.16,-55.7 4002.95,-61.59\"/>\n</g>\n</g>\n</svg>\n",
            "text/plain": [
              "<graphviz.sources.Source at 0x7c5e62604310>"
            ]
          },
          "metadata": {},
          "execution_count": 39
        }
      ]
    },
    {
      "cell_type": "markdown",
      "source": [
        "**Kesimpulan**"
      ],
      "metadata": {
        "id": "bmHhxR_18rhx"
      }
    },
    {
      "cell_type": "markdown",
      "source": [
        "\n",
        "\n",
        "1.   mengapa hasil akurasi yang dikeluarkan tidak terlalu tinggi?, dikarenakan data yang digunakan tidak seimbang dimana salary <=50k 4x lebih banyak dibanding >50k\n",
        "\n",
        "2. Hasil yang didapatkan menggunakan `gini` lebih baik sedikit daripada menggunakan `entrophy` tergantung situasi\n",
        "\n",
        "3. Semakin banyak fitur yang berelasi maka akan meningkatkan akurasi prediksi machine learning itu juga\n",
        "\n",
        "4. Dept tree dapat mempengaruhi akurasi dari sebuah machine learning model decision tree\n",
        "\n"
      ],
      "metadata": {
        "id": "cYW069MD82yY"
      }
    }
  ]
}